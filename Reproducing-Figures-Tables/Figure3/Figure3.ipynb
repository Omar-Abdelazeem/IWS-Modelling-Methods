{
 "cells": [
  {
   "cell_type": "markdown",
   "metadata": {},
   "source": [
    "## Figure 3: Spatial Distribution of Satisfaction Ratio: Flow vs. Volume Restricted Methods\n",
    "This notebook creates 2 CSV files which contain the data for the subfigures a and b for Figure 3 of the main text"
   ]
  },
  {
   "cell_type": "code",
   "execution_count": 11,
   "metadata": {},
   "outputs": [],
   "source": [
    "import pandas as pd\n",
    "import numpy as np\n",
    "import re\n",
    "\n",
    "path='../../Network-Files/Network 3/'\n",
    "\n",
    "coords=pd.read_csv(path+'Network3_coords.csv')\n",
    "VR_timeseries=pd.read_csv(path+'Network3_12hr_CV-Tank_TimeSeries.csv',index_col=0)\n",
    "FR_timeseries=pd.read_csv(path+'Network3_12hr_PDA_TimeSeries.csv',index_col=0)\n",
    "VR_6hr=VR_timeseries.loc[21600,:]*100\n",
    "VR_6hr.reset_index(drop=True,inplace=True)\n",
    "FR_6hr=FR_timeseries.loc[21600,:]*100\n",
    "FR_6hr.reset_index(drop=True,inplace=True)\n",
    "VR_points=pd.concat([coords,VR_6hr],axis=1)\n",
    "FR_points=pd.concat([coords,FR_6hr],axis=1)\n",
    "FR_points.rename(columns={21600:\"S@6hr\"},inplace=True)\n",
    "VR_points.rename(columns={21600:\"S@6hr\"},inplace=True)\n",
    "FR_points.to_csv('Satisfaction@6hrs_PDA_Figure3.csv',index=False)\n",
    "VR_points.to_csv('Satisfaction@6hrs_CV-Tank_Figure3.csv',index=False)"
   ]
  },
  {
   "cell_type": "markdown",
   "metadata": {},
   "source": [
    "The two csv files Satisfaction@6hrs_CV-Tank_Figure3.csv and Satisfaction@6hrs_PDA_Figure3.csv contain the data in Figure 3a and 3b respectively  \n",
    "The attached .shp files contain the produced contour layers as well as the network model layers used to generate figure 3  \n",
    "Add the two csv files as Delimited Text Layers  \n",
    "Use the generate contours plugin from the QGIS toolbox (Or generate contours using your preferred method)\n",
    "Generate Contours with predefinede levels: 50-60 60-70 70-80 80-90 90-100\n",
    "Flow-restricted layer will generate an error since all points are at the same value 50% \n",
    "Contour levels used to generate PDA layer are 49.99-50.01"
   ]
  }
 ],
 "metadata": {
  "kernelspec": {
   "display_name": "Python 3.9.12 ('base')",
   "language": "python",
   "name": "python3"
  },
  "language_info": {
   "codemirror_mode": {
    "name": "ipython",
    "version": 3
   },
   "file_extension": ".py",
   "mimetype": "text/x-python",
   "name": "python",
   "nbconvert_exporter": "python",
   "pygments_lexer": "ipython3",
   "version": "3.9.12"
  },
  "orig_nbformat": 4,
  "vscode": {
   "interpreter": {
    "hash": "dd6a0ae2e89424b22bc0c3fd46707be6f981ef35bdac29f85707eba2fc78ecd7"
   }
  }
 },
 "nbformat": 4,
 "nbformat_minor": 2
}
