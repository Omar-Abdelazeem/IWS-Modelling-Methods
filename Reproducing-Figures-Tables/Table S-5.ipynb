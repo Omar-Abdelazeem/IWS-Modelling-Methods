{
 "cells": [
  {
   "cell_type": "markdown",
   "metadata": {},
   "source": [
    "## Table S-5: Execution Time of 6  IWS Modelling Methods in EPANET in the 3 Test Networks\n",
    "To reproduce Table S-5 as it is in the paper you can run the upcoming cells"
   ]
  },
  {
   "cell_type": "markdown",
   "metadata": {},
   "source": [
    "Importing Required packages"
   ]
  },
  {
   "cell_type": "code",
   "execution_count": 2,
   "metadata": {},
   "outputs": [],
   "source": [
    "import wntr  \n",
    "import numpy as np \n",
    "import pandas as pd\n",
    "import matplotlib as mpl\n",
    "from matplotlib import figure\n",
    "import matplotlib.pyplot as plt\n",
    "import timeit \n",
    "import re"
   ]
  },
  {
   "cell_type": "markdown",
   "metadata": {},
   "source": [
    "Input directory and file names and preprocessing"
   ]
  },
  {
   "cell_type": "code",
   "execution_count": 42,
   "metadata": {},
   "outputs": [
    {
     "data": {
      "text/html": [
       "<div>\n",
       "<style scoped>\n",
       "    .dataframe tbody tr th:only-of-type {\n",
       "        vertical-align: middle;\n",
       "    }\n",
       "\n",
       "    .dataframe tbody tr th {\n",
       "        vertical-align: top;\n",
       "    }\n",
       "\n",
       "    .dataframe thead th {\n",
       "        text-align: right;\n",
       "    }\n",
       "</style>\n",
       "<table border=\"1\" class=\"dataframe\">\n",
       "  <thead>\n",
       "    <tr style=\"text-align: right;\">\n",
       "      <th></th>\n",
       "      <th></th>\n",
       "      <th>PDA</th>\n",
       "      <th>FCV-EM</th>\n",
       "      <th>FCV-Res</th>\n",
       "      <th>CV-Tank</th>\n",
       "      <th>PSV-Tank</th>\n",
       "      <th>CV-Res</th>\n",
       "    </tr>\n",
       "  </thead>\n",
       "  <tbody>\n",
       "    <tr>\n",
       "      <th rowspan=\"2\" valign=\"top\">Network 1</th>\n",
       "      <th>_4hr_</th>\n",
       "      <td>NaN</td>\n",
       "      <td>NaN</td>\n",
       "      <td>NaN</td>\n",
       "      <td>NaN</td>\n",
       "      <td>NaN</td>\n",
       "      <td>NaN</td>\n",
       "    </tr>\n",
       "    <tr>\n",
       "      <th>_12hr_</th>\n",
       "      <td>NaN</td>\n",
       "      <td>NaN</td>\n",
       "      <td>NaN</td>\n",
       "      <td>NaN</td>\n",
       "      <td>NaN</td>\n",
       "      <td>NaN</td>\n",
       "    </tr>\n",
       "    <tr>\n",
       "      <th rowspan=\"2\" valign=\"top\">Network 2</th>\n",
       "      <th>_4hr_</th>\n",
       "      <td>NaN</td>\n",
       "      <td>NaN</td>\n",
       "      <td>NaN</td>\n",
       "      <td>NaN</td>\n",
       "      <td>NaN</td>\n",
       "      <td>NaN</td>\n",
       "    </tr>\n",
       "    <tr>\n",
       "      <th>_12hr_</th>\n",
       "      <td>NaN</td>\n",
       "      <td>NaN</td>\n",
       "      <td>NaN</td>\n",
       "      <td>NaN</td>\n",
       "      <td>NaN</td>\n",
       "      <td>NaN</td>\n",
       "    </tr>\n",
       "    <tr>\n",
       "      <th>Network 3</th>\n",
       "      <th>_4hr_</th>\n",
       "      <td>NaN</td>\n",
       "      <td>NaN</td>\n",
       "      <td>NaN</td>\n",
       "      <td>NaN</td>\n",
       "      <td>NaN</td>\n",
       "      <td>NaN</td>\n",
       "    </tr>\n",
       "  </tbody>\n",
       "</table>\n",
       "</div>"
      ],
      "text/plain": [
       "                  PDA FCV-EM FCV-Res CV-Tank PSV-Tank CV-Res\n",
       "Network 1 _4hr_   NaN    NaN     NaN     NaN      NaN    NaN\n",
       "          _12hr_  NaN    NaN     NaN     NaN      NaN    NaN\n",
       "Network 2 _4hr_   NaN    NaN     NaN     NaN      NaN    NaN\n",
       "          _12hr_  NaN    NaN     NaN     NaN      NaN    NaN\n",
       "Network 3 _4hr_   NaN    NaN     NaN     NaN      NaN    NaN"
      ]
     },
     "execution_count": 42,
     "metadata": {},
     "output_type": "execute_result"
    }
   ],
   "source": [
    "directory='../Network-Files/'\n",
    "networks=['Network 1','Network 2','Network 3']\n",
    "supply_durations=['_4hr_','_12hr_']\n",
    "methods=['PDA','FCV-EM','FCV-Res','CV-Tank','PSV-Tank','CV-Res']\n",
    "extension='.inp'\n",
    "\n",
    "index=pd.MultiIndex.from_product([networks,supply_durations])\n",
    "results=pd.DataFrame(index=index,columns=methods)\n",
    "results.head()"
   ]
  },
  {
   "cell_type": "markdown",
   "metadata": {},
   "source": [
    "Timing the execution of all files"
   ]
  },
  {
   "cell_type": "code",
   "execution_count": 46,
   "metadata": {},
   "outputs": [],
   "source": [
    "#Specify number of iterations to time and average over (more= more confidence in mean time per run)\n",
    "# We used 1,000 iterations to generate Table S-5, but it will take a while \n",
    "n_iterations=1000\n",
    "\n",
    "for network in networks:\n",
    "    path=directory+network+'/'\n",
    "    network_name=network[:-2]+network[-1]\n",
    "    for duration in supply_durations:\n",
    "        for method in methods:\n",
    "            file=path+network_name+duration+method+extension\n",
    "            # Statement to be timed: read filename, create network model, run network simulation\n",
    "            timed_lines='inp_file='+\"'\"+file+\"'\"\n",
    "            timed_lines=timed_lines+'''\n",
    "wn = wntr.network.WaterNetworkModel(inp_file) \n",
    "wntr.sim.EpanetSimulator(wn)\n",
    "            '''\n",
    "            # Time and average over number of iterations\n",
    "            results.loc[(network,duration),method]=np.round(timeit.timeit(stmt=timed_lines,setup='import wntr',number=n_iterations)/n_iterations*1000,decimals=2)\n",
    "            # print(\"Time taken for \",file,' is ', results.loc[(network,duration),method], 'milliseconds per run')\n"
   ]
  },
  {
   "cell_type": "markdown",
   "metadata": {},
   "source": [
    "Displaying the results"
   ]
  },
  {
   "cell_type": "code",
   "execution_count": 47,
   "metadata": {},
   "outputs": [
    {
     "data": {
      "text/html": [
       "<div>\n",
       "<style scoped>\n",
       "    .dataframe tbody tr th:only-of-type {\n",
       "        vertical-align: middle;\n",
       "    }\n",
       "\n",
       "    .dataframe tbody tr th {\n",
       "        vertical-align: top;\n",
       "    }\n",
       "\n",
       "    .dataframe thead th {\n",
       "        text-align: right;\n",
       "    }\n",
       "</style>\n",
       "<table border=\"1\" class=\"dataframe\">\n",
       "  <thead>\n",
       "    <tr style=\"text-align: right;\">\n",
       "      <th></th>\n",
       "      <th></th>\n",
       "      <th>PDA</th>\n",
       "      <th>FCV-EM</th>\n",
       "      <th>FCV-Res</th>\n",
       "      <th>CV-Tank</th>\n",
       "      <th>PSV-Tank</th>\n",
       "      <th>CV-Res</th>\n",
       "    </tr>\n",
       "  </thead>\n",
       "  <tbody>\n",
       "    <tr>\n",
       "      <th rowspan=\"2\" valign=\"top\">Network 1</th>\n",
       "      <th>_4hr_</th>\n",
       "      <td>2.03</td>\n",
       "      <td>4.31</td>\n",
       "      <td>4.1</td>\n",
       "      <td>3.52</td>\n",
       "      <td>5.89</td>\n",
       "      <td>2.9</td>\n",
       "    </tr>\n",
       "    <tr>\n",
       "      <th>_12hr_</th>\n",
       "      <td>1.93</td>\n",
       "      <td>4.28</td>\n",
       "      <td>3.9</td>\n",
       "      <td>3.38</td>\n",
       "      <td>5.49</td>\n",
       "      <td>2.78</td>\n",
       "    </tr>\n",
       "    <tr>\n",
       "      <th rowspan=\"2\" valign=\"top\">Network 2</th>\n",
       "      <th>_4hr_</th>\n",
       "      <td>2.68</td>\n",
       "      <td>6.52</td>\n",
       "      <td>5.97</td>\n",
       "      <td>5.02</td>\n",
       "      <td>8.67</td>\n",
       "      <td>4.09</td>\n",
       "    </tr>\n",
       "    <tr>\n",
       "      <th>_12hr_</th>\n",
       "      <td>2.65</td>\n",
       "      <td>6.57</td>\n",
       "      <td>6.0</td>\n",
       "      <td>4.97</td>\n",
       "      <td>8.66</td>\n",
       "      <td>4.11</td>\n",
       "    </tr>\n",
       "    <tr>\n",
       "      <th rowspan=\"2\" valign=\"top\">Network 3</th>\n",
       "      <th>_4hr_</th>\n",
       "      <td>8.45</td>\n",
       "      <td>24.0</td>\n",
       "      <td>21.59</td>\n",
       "      <td>17.27</td>\n",
       "      <td>31.45</td>\n",
       "      <td>14.16</td>\n",
       "    </tr>\n",
       "    <tr>\n",
       "      <th>_12hr_</th>\n",
       "      <td>8.41</td>\n",
       "      <td>23.51</td>\n",
       "      <td>21.51</td>\n",
       "      <td>17.72</td>\n",
       "      <td>31.69</td>\n",
       "      <td>14.82</td>\n",
       "    </tr>\n",
       "  </tbody>\n",
       "</table>\n",
       "</div>"
      ],
      "text/plain": [
       "                   PDA FCV-EM FCV-Res CV-Tank PSV-Tank CV-Res\n",
       "Network 1 _4hr_   2.03   4.31     4.1    3.52     5.89    2.9\n",
       "          _12hr_  1.93   4.28     3.9    3.38     5.49   2.78\n",
       "Network 2 _4hr_   2.68   6.52    5.97    5.02     8.67   4.09\n",
       "          _12hr_  2.65   6.57     6.0    4.97     8.66   4.11\n",
       "Network 3 _4hr_   8.45   24.0   21.59   17.27    31.45  14.16\n",
       "          _12hr_  8.41  23.51   21.51   17.72    31.69  14.82"
      ]
     },
     "execution_count": 47,
     "metadata": {},
     "output_type": "execute_result"
    }
   ],
   "source": [
    "results"
   ]
  },
  {
   "cell_type": "code",
   "execution_count": null,
   "metadata": {},
   "outputs": [],
   "source": []
  }
 ],
 "metadata": {
  "kernelspec": {
   "display_name": "Python 3.9.12 ('base')",
   "language": "python",
   "name": "python3"
  },
  "language_info": {
   "codemirror_mode": {
    "name": "ipython",
    "version": 3
   },
   "file_extension": ".py",
   "mimetype": "text/x-python",
   "name": "python",
   "nbconvert_exporter": "python",
   "pygments_lexer": "ipython3",
   "version": "3.9.12"
  },
  "orig_nbformat": 4,
  "vscode": {
   "interpreter": {
    "hash": "dd6a0ae2e89424b22bc0c3fd46707be6f981ef35bdac29f85707eba2fc78ecd7"
   }
  }
 },
 "nbformat": 4,
 "nbformat_minor": 2
}
