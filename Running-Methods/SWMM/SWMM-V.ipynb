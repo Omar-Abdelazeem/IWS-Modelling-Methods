{
 "cells": [
  {
   "cell_type": "markdown",
   "id": "98d676f9",
   "metadata": {},
   "source": [
    "# Running a SWMM-F Simulation [1]\n",
    "### Importing required packages and libraries\n",
    "A SWMM-V simulation is a model of IWS that includes the filling process and models consumers with a volume-restricted withdrawal \n",
    "In this notebook, we use PySWMM (a python wrapper for EPA's SWMM) to run a pre-prepared SWMM .inp file  \n",
    "Alternatively, the .inp file can be run from SWMM's GUI if preferred and the output (.out) file can be imported directly for post-processing\n",
    "**The packages and libraries to be imported are:**  \n",
    "* **PySWMM** for parsing, running and outputting the results of a SWMM .inp file\n",
    "* **LinkAttribute**, a module in PySWMM that extracts a specific attribute from the output results\n",
    "* **Pandas & Numpy** for data handling and processing\n",
    "* **datetime** for parsing and operating on datetime formats\n",
    "* **re** for usign regular expressions to filter the results\n",
    "* **matplotlib** for plotting and visulisation"
   ]
  },
  {
   "cell_type": "code",
   "execution_count": 3,
   "id": "6455e9c1",
   "metadata": {},
   "outputs": [],
   "source": [
    "import pyswmm\n",
    "from pyswmm import swmm5\n",
    "import re\n",
    "from swmm.toolkit.shared_enum import NodeAttribute\n",
    "import pandas as pd\n",
    "import numpy as np\n",
    "import datetime\n",
    "import matplotlib as mpl\n",
    "import matplotlib.pyplot as plt"
   ]
  },
  {
   "cell_type": "markdown",
   "id": "567bcce7",
   "metadata": {},
   "source": [
    "### Specifying paths for simulation files and preprocessing the input\n",
    "**Warning:** *Paths in this script (and the rest of this repo) are absolute*  \n",
    "For batch runs of multiple .inp files at once, please use the \\[Script\\] in \\[Repo path\\]  \n",
    "Input filename (with extensions) as string.  "
   ]
  },
  {
   "cell_type": "code",
   "execution_count": 4,
   "id": "da97ddf0",
   "metadata": {},
   "outputs": [
    {
     "name": "stdout",
     "output_type": "stream",
     "text": [
      "Selected File:  N3a_Campisano_10m_FORCE_MAIN_Vrestricted\n"
     ]
    }
   ],
   "source": [
    "directory='/Users/omaraliamer/Desktop/UofT/Papers/Clean Network Files/SWMM/Final Files/'\n",
    "filename='N3a_Campisano_10m_FORCE_MAIN_Vrestricted.inp'\n",
    "name_only=filename[0:-4]\n",
    "print(\"Selected File: \",name_only)\n",
    "abs_path=directory+filename"
   ]
  },
  {
   "cell_type": "markdown",
   "id": "4c9ce807",
   "metadata": {},
   "source": [
    "### Parsing .inp file and building the network model\n",
    "PySWMM's Simulation module reads in a SWMM .inp file, parses it, and builds a network model object of the specified network  \n",
    "SWMM typically produces a report file (containing specified reported results) and an output file (containing all results at all reporting time steps)  \n",
    "PySWMM optionally allows for a path to be specified for each of those files, here we only need the output file (.out)"
   ]
  },
  {
   "cell_type": "code",
   "execution_count": 5,
   "id": "966e89fe",
   "metadata": {},
   "outputs": [
    {
     "name": "stdout",
     "output_type": "stream",
     "text": [
      "\n",
      " o  Retrieving project data"
     ]
    }
   ],
   "source": [
    "sim=pyswmm.Simulation (abs_path, outputfile=directory+name_only+\".out\")"
   ]
  },
  {
   "cell_type": "markdown",
   "id": "0e37d324",
   "metadata": {},
   "source": [
    "### Preprocessing\n",
    "In a SWMM-V simulation, each demand node is connected to a Storage node corresponding to the desired demand volume\n",
    "To later filter the results to include only the demand nodes, the IDs of the demand outlets are recorded"
   ]
  },
  {
   "cell_type": "code",
   "execution_count": 6,
   "id": "9a0f118a",
   "metadata": {},
   "outputs": [],
   "source": [
    "nodes=pyswmm.nodes.Nodes(sim)\n",
    "tankids=[]\n",
    "for node in nodes:\n",
    "    if re.search('S',node.nodeid):\n",
    "        tankids.append(node.nodeid)"
   ]
  },
  {
   "cell_type": "markdown",
   "id": "f6286c13",
   "metadata": {},
   "source": [
    "### Running the SWMM simulation\n",
    "PySWMM has two modes of running a SWMM simulation  \n",
    "In this mode, we step through the simulation step by step, which allows for (if needed) displaying key information while the simulation runs  \n",
    "e.g., you may want to check on a specific node's depth while the simulation runs  \n",
    "In this case, we only display the simulations current time, to give the user a sense of how long it is going to take  \n",
    "You may edit the upcoming cell to print any other information you want (refer to pyswmm's documentation [here](https://pyswmm.readthedocs.io/en/stable/))  \n",
    "To get more frequent current time outputs, reduce the value of **every** (More frequent updates -> longer runtime)"
   ]
  },
  {
   "cell_type": "code",
   "execution_count": 7,
   "id": "930d930e",
   "metadata": {},
   "outputs": [
    {
     "name": "stdout",
     "output_type": "stream",
     "text": [
      "Current Time is >>  2022-05-18 00:00:01\n",
      "Current Time is >>  2022-05-18 00:16:41\n",
      "Current Time is >>  2022-05-18 00:33:21\n",
      "Current Time is >>  2022-05-18 00:50:01\n",
      "Current Time is >>  2022-05-18 01:06:41\n",
      "Current Time is >>  2022-05-18 01:23:21\n",
      "Current Time is >>  2022-05-18 01:40:01\n",
      "Current Time is >>  2022-05-18 01:56:41\n",
      "Current Time is >>  2022-05-18 02:13:21\n",
      "Current Time is >>  2022-05-18 02:30:01\n",
      "Current Time is >>  2022-05-18 02:46:41\n",
      "Current Time is >>  2022-05-18 03:03:21\n",
      "Current Time is >>  2022-05-18 03:20:01\n",
      "Current Time is >>  2022-05-18 03:36:41\n",
      "Current Time is >>  2022-05-18 03:53:21\n"
     ]
    }
   ],
   "source": [
    "stp=0       #steps counter\n",
    "every=1000  #Interval of printing current time\n",
    "\n",
    "# runs the simulation step by step\n",
    "with sim as sim:\n",
    "    for step in sim:\n",
    "        if stp%every==0:\n",
    "            print('Current Time is >> ',sim.current_time)\n",
    "        stp+=1\n",
    "        pass"
   ]
  },
  {
   "cell_type": "markdown",
   "id": "e4ba0fc9",
   "metadata": {},
   "source": [
    "### Postprocessing & Extracting the Results\n",
    "Using the Output module in PySWMM, we extract the time series results for each  of the demand nodes  \n",
    "Satisfaction ratio can be extracted directly in this case, since storage nodes were set where the height of water in the tank corresponds to the percentage of demand satisfied  \n",
    "i.e., a tank height of 0.5 m means that 50% of the demand is satisfied"
   ]
  },
  {
   "cell_type": "code",
   "execution_count": 8,
   "id": "8a033366",
   "metadata": {},
   "outputs": [],
   "source": [
    "Depths=pd.DataFrame()   #Empty Dataframe to store water depth in tanks\n",
    "swtch=True              # switch variable for upcoming condition\n",
    "\n",
    "# Reads the output file created above\n",
    "with pyswmm.Output(directory+name_only+\".out\") as out:\n",
    "    # loops through each node in output file\n",
    "    for node in out.nodes:\n",
    "\n",
    "        # One time only. Gets the timesteps (the keys in the output series dictionary) and stores them to be used as index\n",
    "        if swtch:\n",
    "        # node_series produces a dictionary with the keys corresponding to timestamps and values contain the value of the selected variable (FLOW_RATE) at each timestamp\n",
    "            index=pd.Series(out.node_series(node,NodeAttribute.INVERT_DEPTH).keys())\n",
    "            swtch=False\n",
    "        \n",
    "        # If node id is in the prepared list of demand nodes (tanks)\n",
    "        if node in tankids:\n",
    "            tsrs=pd.Series(out.node_series(node,NodeAttribute.INVERT_DEPTH).values())\n",
    "            Depths=pd.concat([Depths,tsrs],axis=1)"
   ]
  },
  {
   "cell_type": "markdown",
   "id": "e099e42c",
   "metadata": {},
   "source": [
    "Cleaning up the dataframe for further processing  \n",
    "SWMM output files skip the initial time step in reporting the results. These have to be added back manually.  \n",
    "The time stamp output of PySWMM is of datetime format, and is subsequently converted to seconds from start of simulation"
   ]
  },
  {
   "cell_type": "code",
   "execution_count": 9,
   "id": "ac3d7d03",
   "metadata": {},
   "outputs": [],
   "source": [
    "# Stores the start time stamp of the simulation\n",
    "start_time=index[0]\n",
    "# List to store index of time in seconds (0 added as the missing initial time step)\n",
    "new_index=[0]\n",
    "\n",
    "# Loops through old index (datetime)\n",
    "for time in index:\n",
    "    # Gets time difference in seconds\n",
    "    timesec=(time-start_time).seconds\n",
    "    # Appends time in seconds to new index\n",
    "    new_index.append(timesec+10)\n",
    "\n",
    "# Sets all depths higher than 1 to 1 (Since any additional depth is due to the thin elongated portion of the tank curve, refer to methods section for more details)\n",
    "Depths[Depths > 1]=1\n",
    "\n",
    "### Formatting the DataFrame to add a zero row at the beginning (for the initial time step) and fix index and column names\n",
    "Depths.index=new_index[1:]\n",
    "Depths.columns=tankids\n",
    "Depths=Depths.loc[~Depths.index.duplicated(keep='first')]\n",
    "zeros=pd.DataFrame([0]*245).transpose()\n",
    "zeros.index=[0]\n",
    "zeros.columns=tankids\n",
    "Depths=pd.concat([zeros,Depths])\n",
    "\n",
    "# Calculates supply duration in minutes from the last entry in the new index (seconds)\n",
    "supply_duration=new_index[-1]/60"
   ]
  },
  {
   "cell_type": "code",
   "execution_count": 10,
   "id": "4a690e95",
   "metadata": {},
   "outputs": [],
   "source": [
    "# Intialize Series for storing statistics\n",
    "mean=pd.Series(dtype='float64')\n",
    "median=pd.Series(dtype='float64')\n",
    "low_percentile=pd.Series(dtype='float64')\n",
    "high_percentile=pd.Series(dtype='float64')\n",
    "\n",
    "# Set the percentile values to be calculated\n",
    "low_percent_val=10   # Range 0 to 100 ONLY\n",
    "high_percent_val=90  # Range 0 to 100 ONLY\n",
    "\n",
    "# Loop over each row (time step) in the results and calculate values of mean, median, low and high percentiles\n",
    "for row in Depths.index:\n",
    "    mean.loc[row]=np.mean(Depths.loc[row,:])*100\n",
    "    low_percentile.loc[row]=np.percentile(Depths.loc[row,:],low_percent_val)*100\n",
    "    median.loc[row]=np.percentile(Depths.loc[row,:],50)*100\n",
    "    high_percentile.loc[row]=np.percentile(Depths.loc[row,:],high_percent_val)*100"
   ]
  },
  {
   "cell_type": "markdown",
   "id": "7166b346",
   "metadata": {},
   "source": [
    "### Result Visualisation\n",
    "First we plot the Mean satisfaction in the network with time"
   ]
  },
  {
   "cell_type": "code",
   "execution_count": 11,
   "id": "ab1a02b2",
   "metadata": {},
   "outputs": [
    {
     "data": {
      "text/plain": [
       "<function matplotlib.pyplot.show(close=None, block=None)>"
      ]
     },
     "execution_count": 11,
     "metadata": {},
     "output_type": "execute_result"
    },
    {
     "data": {
      "image/png": "[encoded data removed]",
      "text/plain": [
       "<Figure size 675x450 with 1 Axes>"
      ]
     },
     "metadata": {
      "needs_background": "light"
     },
     "output_type": "display_data"
    }
   ],
   "source": [
    "# Setting Universal Parameters for plotting: dots per inch (dpi), text font and size, label size\n",
    "mpl.rcParams['figure.dpi'] = 450\n",
    "font = {'family' : 'Times',\n",
    "        'weight' : 'bold',\n",
    "        'size'   : 3}\n",
    "mpl.rc('font', **font)\n",
    "mpl.rc('xtick', labelsize=3)\n",
    "mpl.rcParams['axes.linewidth'] = 0.5\n",
    "\n",
    "# Prepping an xaxis with hr format\n",
    "supply_duration_hr=supply_duration/60\n",
    "xaxis=[x/3600 for x in new_index]\n",
    "\n",
    "fig, ax=plt.subplots()\n",
    "# Change figure size (and aspect ratio) by adjusting height and width here\n",
    "fig.set_figwidth(1.5)\n",
    "fig.set_figheight(1)\n",
    "\n",
    "# Formatting Plot: Setting a Title, x- and y-axis limits, major and minor ticks\n",
    "ax.set_title('Average Demand Satisfaction with Time')\n",
    "ax.set_xlim(0,supply_duration_hr)\n",
    "ax.set_ylim(0,101)\n",
    "ax.set_xticks(np.arange(0,supply_duration_hr+1,4))\n",
    "ax.set_xticks(np.arange(0,supply_duration_hr+1,1),minor=True)\n",
    "ax.set_yticks(np.arange(0,101,25))\n",
    "ax.tick_params(width=0.5)\n",
    "\n",
    "# Data to be plotted: Mean as a percentage (hence the multiplication by 100)\n",
    "# Change color by changing the string next to c= and linewidth by value\n",
    "line1,=ax.plot(xaxis,mean, c='#d73027',linewidth=0.5)\n",
    "plt.xlabel('Supply Time (hr)')\n",
    "plt.ylabel('Satisfaction Ratio (%)')\n",
    "# Optional: show grid or turn on and off spines (Plot box sides)\n",
    "# ax.grid(visible=True,which='both')\n",
    "ax.spines['top'].set_visible(False)\n",
    "ax.spines['right'].set_visible(False)\n",
    "plt.show"
   ]
  },
  {
   "cell_type": "markdown",
   "id": "2327841e",
   "metadata": {},
   "source": [
    "### Plotting the Distribution between Consumers (Equality)\n",
    "Low Percentile, Median and High Percentile are plotted together to show the distribution between consumers with time. Area between Low and High Percentiles will be shaded"
   ]
  },
  {
   "cell_type": "code",
   "execution_count": 12,
   "id": "bb83b968",
   "metadata": {},
   "outputs": [
    {
     "data": {
      "text/plain": [
       "<function matplotlib.pyplot.show(close=None, block=None)>"
      ]
     },
     "execution_count": 12,
     "metadata": {},
     "output_type": "execute_result"
    },
    {
     "data": {
      "image/png": "[encoded data removed]",
      "text/plain": [
       "<Figure size 675x450 with 1 Axes>"
      ]
     },
     "metadata": {
      "needs_background": "light"
     },
     "output_type": "display_data"
    }
   ],
   "source": [
    "fig, ax=plt.subplots()\n",
    "# Change figure size (and aspect ratio) by adjusting height and width here\n",
    "fig.set_figwidth(1.5)\n",
    "fig.set_figheight(1)\n",
    "\n",
    "# Formatting Plot: Setting a Title, x- and y-axis limits, major and minor ticks\n",
    "ax.set_title('Distribution of Demand Satisfaction')\n",
    "ax.set_xlim(0,supply_duration_hr)\n",
    "ax.set_ylim(0,101)\n",
    "ax.set_xticks(np.arange(0,supply_duration_hr+1,4))\n",
    "ax.set_xticks(np.arange(0,supply_duration_hr+1,1),minor=True)\n",
    "ax.set_yticks(np.arange(0,101,25))\n",
    "ax.tick_params(width=0.5)\n",
    "\n",
    "\n",
    "# Data to be plotted: Mean as a percentage (hence the multiplication by 100)\n",
    "# Change color by changing the string next to c= and linewidth by value\n",
    "line1,=ax.plot(xaxis,median, c='#d73027',linewidth=0.5)\n",
    "plt.fill_between(xaxis, y1=low_percentile, y2=high_percentile, alpha=0.4, color='#d73027', edgecolor=None)\n",
    "plt.xlabel('Supply Time (hr)')\n",
    "plt.ylabel('Satisfaction Ratio (%)')\n",
    "# Optional: show grid or turn on and off spines (Plot box sides)\n",
    "# ax.grid(visible=True,which='both')\n",
    "ax.spines['top'].set_visible(False)\n",
    "ax.spines['right'].set_visible(False)\n",
    "plt.show"
   ]
  },
  {
   "cell_type": "code",
   "execution_count": null,
   "id": "fb4f48ae",
   "metadata": {},
   "outputs": [],
   "source": []
  }
 ],
 "metadata": {
  "kernelspec": {
   "display_name": "Python 3.9.7",
   "language": "python",
   "name": "python3"
  },
  "language_info": {
   "codemirror_mode": {
    "name": "ipython",
    "version": 3
   },
   "file_extension": ".py",
   "mimetype": "text/x-python",
   "name": "python",
   "nbconvert_exporter": "python",
   "pygments_lexer": "ipython3",
   "version": "3.9.7"
  },
  "vscode": {
   "interpreter": {
    "hash": "40d3a090f54c6569ab1632332b64b2c03c39dcf918b08424e98f38b5ae0af88f"
   }
  }
 },
 "nbformat": 4,
 "nbformat_minor": 5
}
