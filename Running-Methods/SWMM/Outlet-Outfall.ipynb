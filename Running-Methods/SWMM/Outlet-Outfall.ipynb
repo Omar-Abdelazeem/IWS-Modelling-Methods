{
 "cells": [
  {
   "cell_type": "markdown",
   "id": "98d676f9",
   "metadata": {},
   "source": [
    "# Running a Outlet-Outfall Simulation [1]\n",
    "### Importing required packages and libraries\n",
    "A Outlet-Outfall simulation is a model of IWS that includes the filling process and models consumers with a flow-restricted withdrawal \n",
    "In this notebook, we use PySWMM (a python wrapper for EPA's SWMM) to run a pre-prepared SWMM .inp file  \n",
    "Alternatively, the .inp file can be run from SWMM's GUI if preferred and the output (.out) file can be imported directly for post-processing\n",
    "**The packages and libraries to be imported are:**  \n",
    "* **PySWMM** for parsing, running and outputting the results of a SWMM .inp file\n",
    "* **LinkAttribute**, a module in PySWMM that extracts a specific attribute from the output results\n",
    "* **Pandas & Numpy** for data handling and processing\n",
    "* **datetime** for parsing and operating on datetime formats\n",
    "* **re** for usign regular expressions to filter the results\n",
    "* **matplotlib** for plotting and visulisation"
   ]
  },
  {
   "cell_type": "code",
   "execution_count": 1,
   "id": "6455e9c1",
   "metadata": {},
   "outputs": [],
   "source": [
    "import pyswmm\n",
    "import re\n",
    "from swmm.toolkit.shared_enum import LinkAttribute\n",
    "import pandas as pd\n",
    "import numpy as np\n",
    "import datetime\n",
    "import matplotlib as mpl\n",
    "import matplotlib.pyplot as plt\n",
    "from warnings import simplefilter\n",
    "simplefilter(action=\"ignore\", category=pd.errors.PerformanceWarning)"
   ]
  },
  {
   "cell_type": "markdown",
   "id": "567bcce7",
   "metadata": {},
   "source": [
    "### Specifying paths for simulation files and preprocessing the input\n",
    "**Warning:** *Paths in this script (and the rest of this repo) are absolute unless running the network files provided within the repo*  \n",
    "Input filename (with extensions) as string.  \n",
    "For running the .inp files in this repository, you can use this relative path `\"../../Network-Files/Network X/\"` where X is the network number "
   ]
  },
  {
   "cell_type": "code",
   "execution_count": 2,
   "id": "da97ddf0",
   "metadata": {},
   "outputs": [
    {
     "name": "stdout",
     "output_type": "stream",
     "text": [
      "Selected File:  Network3_4hr_Outlet-Outfall\n"
     ]
    }
   ],
   "source": [
    " # Replace with appropriate path and filename\n",
    "directory='../../Network-Files/Network 3/'\n",
    "filename='Network3_4hr_Outlet-Outfall.inp'\n",
    "name_only=filename[0:-4]\n",
    "print(\"Selected File: \",name_only)\n",
    "abs_path=directory+filename"
   ]
  },
  {
   "cell_type": "markdown",
   "id": "33fa1c25",
   "metadata": {},
   "source": [
    "### Parsing .inp file and building the network model\n",
    "PySWMM's Simulation module reads in a SWMM .inp file, parses it, and builds a network model object of the specified network  \n",
    "SWMM typically produces a report file (containing specified reported results) and an output file (containing all results at all reporting time steps)  \n",
    "PySWMM optionally allows for a path to be specified for each of those files, here we only need the output file (.out)"
   ]
  },
  {
   "cell_type": "code",
   "execution_count": 3,
   "id": "966e89fe",
   "metadata": {},
   "outputs": [
    {
     "name": "stdout",
     "output_type": "stream",
     "text": [
      "\n",
      " o  Retrieving project data"
     ]
    }
   ],
   "source": [
    "sim=pyswmm.Simulation(inputfile=abs_path, outputfile=directory+name_only+\".out\")"
   ]
  },
  {
   "cell_type": "markdown",
   "id": "e3c3306a",
   "metadata": {},
   "source": [
    "### Preprocessing\n",
    "In an Outlet-Outfall simulation, each demand node is outfitted with a fictitious outlet link, which discharges the demand into an outfall  \n",
    "To later filter the results to include only the demand nodes, the IDs of the demand outlets are recorded"
   ]
  },
  {
   "cell_type": "code",
   "execution_count": 4,
   "id": "9a0f118a",
   "metadata": {},
   "outputs": [],
   "source": [
    "links=pyswmm.links.Links(sim)   #object containing links in the network model\n",
    "demand_links=[]                 # Empty list for storing link ids\n",
    "\n",
    "for link in links:\n",
    "    # if link starts with OUT then it's an outlet and store its id\n",
    "    if re.search('^Outlet',link.linkid):\n",
    "        demand_links.append(link.linkid)"
   ]
  },
  {
   "cell_type": "markdown",
   "id": "475da517",
   "metadata": {},
   "source": [
    "### Running the SWMM simulation\n",
    "PySWMM has two modes of running a SWMM simulation  \n",
    "In this mode, we step through the simulation step by step, which allows for (if needed) displaying key information while the simulation runs  \n",
    "e.g., you may want to check on a specific node's depth while the simulation runs  \n",
    "In this case, we only display the simulations current time, to give the user a sense of how long it is going to take  \n",
    "You may edit the upcoming cell to print any other information you want (refer to pyswmm's documentation [here](https://pyswmm.readthedocs.io/en/stable/))  \n",
    "To get more frequent current time outputs, reduce the value of **every** (More frequent updates -> longer runtime)"
   ]
  },
  {
   "cell_type": "code",
   "execution_count": 5,
   "id": "930d930e",
   "metadata": {},
   "outputs": [
    {
     "name": "stdout",
     "output_type": "stream",
     "text": [
      "Current Time is >>  2022-05-18 00:00:01\n",
      "Current Time is >>  2022-05-18 00:16:41\n",
      "Current Time is >>  2022-05-18 00:33:21\n",
      "Current Time is >>  2022-05-18 00:50:01\n",
      "Current Time is >>  2022-05-18 01:06:41\n",
      "Current Time is >>  2022-05-18 01:23:21\n",
      "Current Time is >>  2022-05-18 01:40:01\n",
      "Current Time is >>  2022-05-18 01:56:41\n",
      "Current Time is >>  2022-05-18 02:13:21\n",
      "Current Time is >>  2022-05-18 02:30:01\n",
      "Current Time is >>  2022-05-18 02:46:41\n",
      "Current Time is >>  2022-05-18 03:03:21\n",
      "Current Time is >>  2022-05-18 03:20:01\n",
      "Current Time is >>  2022-05-18 03:36:41\n",
      "Current Time is >>  2022-05-18 03:53:21\n"
     ]
    }
   ],
   "source": [
    "stp=0       #steps counter\n",
    "every=1000  #Interval of printing current time\n",
    "\n",
    "# runs the simulation step by step\n",
    "with sim as sim:\n",
    "    for step in sim:\n",
    "        if stp%every==0:\n",
    "            print('Current Time is >> ',sim.current_time)\n",
    "        stp+=1\n",
    "        pass"
   ]
  },
  {
   "cell_type": "markdown",
   "id": "4ab39986",
   "metadata": {},
   "source": [
    "### Postprocessing & Extracting the Results\n",
    "Using the Output module in PySWMM, we extract the time series results for each  of the demand nodes  \n",
    "Demand withdrawn is found as the flowrate going through the outlet attached to the original demand node   \n",
    "IF YOU RUN THE PREVIOUS CELLS ONCE, YOU CAN SKIP THE PREVIOUS CELLS AND START HERE"
   ]
  },
  {
   "cell_type": "code",
   "execution_count": 6,
   "id": "8a033366",
   "metadata": {},
   "outputs": [],
   "source": [
    "actual_demands=pd.DataFrame()  #Empty Dataframe to store demand rates\n",
    "swtch=True              # switch variable for upcoming condition\n",
    "\n",
    "# Reads the output file created above\n",
    "with pyswmm.Output(directory+name_only+\".out\") as out:\n",
    "    # loops through each link in output file\n",
    "    for link in out.links:\n",
    "\n",
    "        # One time only. Gets the timesteps (the keys in the output series dictionary) and stores them to be used as index\n",
    "        if swtch:\n",
    "            # link_series produces a dictionary with the keys corresponding to timestamps and values contain the value of the selected variable (FLOW_RATE) at each timestamp\n",
    "            index=pd.Series(out.link_series(link,LinkAttribute.FLOW_RATE).keys())\n",
    "            actual_demands.loc[:,\"time\"]=index\n",
    "            swtch=False\n",
    "        # If link id is in the prepared list of demand links (outlets)\n",
    "        if link in demand_links:\n",
    "            # gets the values of the flow rate series dictionary and stores as a Pandas Series\n",
    "            actual_demands.loc[:,link]=out.link_series(link,LinkAttribute.FLOW_RATE).values()\n"
   ]
  },
  {
   "cell_type": "markdown",
   "id": "abddd939",
   "metadata": {},
   "source": [
    "Cleaning up the dataframe for further processing  \n",
    "SWMM output files skip the initial time step in reporting the results. These have to be added back manually.  \n",
    "The time stamp output of PySWMM is of datetime format, and is subsequently converted to seconds from start of simulation"
   ]
  },
  {
   "cell_type": "code",
   "execution_count": 7,
   "id": "b96aef6a",
   "metadata": {},
   "outputs": [],
   "source": [
    "# Stores the start time stamp of the simulation\n",
    "start_time=index[0]\n",
    "# List to store index of time in seconds (0 added as the missing initial time step)\n",
    "new_index=[]\n",
    "\n",
    "# Loops through old index (datetime)\n",
    "for time in index:\n",
    "    # Gets time difference in seconds\n",
    "    timesec=(time-start_time).seconds\n",
    "    # Appends time in seconds to new index\n",
    "    new_index.append(timesec+10)\n",
    "\n",
    "actual_demands[\"time\"]=new_index\n",
    "actual_demands.set_index(\"time\",inplace=True)\n",
    "### Formatting the DataFrame to add a zero row at the beginning (for the initial time step) and fix index and column names\n",
    "actual_demands.loc[0,:]=0\n",
    "actual_demands.sort_index(inplace=True)\n",
    "\n",
    "\n",
    "supply_duration=new_index[-1]/60\n",
    "reporting_step=new_index[1]-new_index[0]"
   ]
  },
  {
   "cell_type": "markdown",
   "id": "4e7bcb9e",
   "metadata": {},
   "source": [
    "### FRW-specific Processing\n",
    "For FRW methods, volumes are not a direct output of the simulation, but instead are calculated based on demands withdrawn at all time steps  \n",
    "This is not required for VRW methods "
   ]
  },
  {
   "cell_type": "code",
   "execution_count": 8,
   "id": "d5b17d14",
   "metadata": {},
   "outputs": [],
   "source": [
    "# Calculates the total demand volume in the specified supply cycle\n",
    "desired_volumes=[]\n",
    "demand_rates=pd.read_csv(directory+name_only+\"_Demands.csv\")\n",
    "demand_rates.set_index(\"ID\",inplace=True)\n",
    "\n",
    "# Loop over each desired demand\n",
    "for demand in demand_rates[\"Demand\"]:\n",
    "    # Append the corresponding desired volume (cum) = demand (LPS) *60 sec/min * supply duration (hr) / 1000 (L/cum)\n",
    "    desired_volumes.append(float(demand)*60*float(supply_duration))\n",
    "\n",
    "# Combine demands (LPS) to their corresponding desired volume (cum)\n",
    "desired_volumes=dict(zip(demand_links,desired_volumes))\n",
    "\n",
    "# Initalized DataFrame for storing volumes received by each demand node as a timeseries\n",
    "timesrs_satisfaction=pd.DataFrame(index=actual_demands.index,columns=desired_volumes.keys())\n",
    "# Set Initial volume for all consumers at 0\n",
    "timesrs_satisfaction.iloc[0,:]=0\n",
    "\n",
    "# Loop over consumers and time steps to add up volumes as a percentage of total desired volume (Satisfaction Ratio)\n",
    "for timestep in list(timesrs_satisfaction.index)[1:]:\n",
    "    for node in timesrs_satisfaction.columns:\n",
    "        # Cummulatively add the percent satisfaction ratio (SR) increased each time step\n",
    "        ## SR at time t = SR at time t-1 + demand at time t-1 (cms) *60 seconds per time step/ Desired Demand Volume (cum)\n",
    "        timesrs_satisfaction.at[timestep,node]=timesrs_satisfaction.at[timestep-reporting_step,node]+actual_demands.at[timestep-reporting_step,node]*reporting_step/1000/desired_volumes[node]"
   ]
  },
  {
   "cell_type": "markdown",
   "id": "75c6d646",
   "metadata": {},
   "source": [
    "### Calculating Consumer Satisfaction Statistics\n",
    "To get a better grasp of how the demands were distributed among consumers, we calculate some descriptive stats at each time step  \n",
    "**Mean Satisfaction** describes the average state throughout the network, only reaches 100 if all demands are satisfied  \n",
    "**Low percentile, Median, and High Percentile** at each time step for a sense of the shape of the distribution (for equality considerations) with time  \n",
    "Choose the low percentile number desired (e.g., 10<sup>th</sup> percentile) and the high percentile (e.g., 90<sup>th</sup> Percentile) by changing their respective values below "
   ]
  },
  {
   "cell_type": "code",
   "execution_count": 9,
   "id": "4a690e95",
   "metadata": {},
   "outputs": [],
   "source": [
    "# Intialize Series for storing statistics\n",
    "mean=pd.Series(dtype='float64')\n",
    "median=pd.Series(dtype='float64')\n",
    "low_percentile=pd.Series(dtype='float64')\n",
    "high_percentile=pd.Series(dtype='float64')\n",
    "\n",
    "# Set the percentile values to be calculated\n",
    "low_percent_val=10   # Range 0 to 100 ONLY\n",
    "high_percent_val=90  # Range 0 to 100 ONLY\n",
    "\n",
    "# Loop over each row (time step) in the results and calculate values of mean, median, low and high percentiles\n",
    "for row in timesrs_satisfaction.index:\n",
    "    mean.loc[row]=np.mean(timesrs_satisfaction.loc[row,:])*100\n",
    "    low_percentile.loc[row]=np.percentile(timesrs_satisfaction.loc[row,:],low_percent_val)*100\n",
    "    median.loc[row]=np.percentile(timesrs_satisfaction.loc[row,:],50)*100\n",
    "    high_percentile.loc[row]=np.percentile(timesrs_satisfaction.loc[row,:],high_percent_val)*100"
   ]
  },
  {
   "cell_type": "markdown",
   "id": "88641ff8",
   "metadata": {},
   "source": [
    "### (Optional) Save .csv files with  Results & Stats\n",
    "Comment out any files you do not need, or skip this cell entirely if you don't want any files saved to your local device"
   ]
  },
  {
   "cell_type": "code",
   "execution_count": 11,
   "id": "7bc2a2c4",
   "metadata": {},
   "outputs": [],
   "source": [
    "# Saves Entire Results DataFrame as Filename_TimeSeries.csv in the same path\n",
    "timesrs_satisfaction.to_csv(directory+name_only+\"_TimeSeries.csv\")\n",
    "\n",
    "# Saves Mean Satisfaction with time as Filename_Means.csv in the same path\n",
    "mean.to_csv(directory+name_only+\"_Means.csv\")\n",
    "\n",
    "# Saves Median Satisfaction with time as Filename_Medians.csv in the same path\n",
    "median.to_csv(directory+name_only+\"_Medians.csv\")\n",
    "\n",
    "# Saves the specified low percentile (XX) values with time as Filename_XXthPercentile.csv in the same path\n",
    "low_percentile.to_csv(directory+name_only+\"_\"+str(low_percent_val)+\"thPercentile.csv\")\n",
    "\n",
    "# Saves the specified high percentile (YY) values with time as Filename_YYthPercentile.csv in the same path\n",
    "high_percentile.to_csv(directory+name_only+\"_\"+str(high_percent_val)+\"thPercentile.csv\")"
   ]
  },
  {
   "cell_type": "markdown",
   "id": "b6ec97f9",
   "metadata": {},
   "source": [
    "### Calculating Filling Time"
   ]
  },
  {
   "cell_type": "code",
   "execution_count": 10,
   "id": "191f5b56",
   "metadata": {},
   "outputs": [],
   "source": [
    "filling_times=pd.DataFrame(index=timesrs_satisfaction.columns, columns=[\"Arrival Time (hr)\",\"Pressurization Time (hr)\",\"Satisfaction Time (hr)\"])\n",
    "for node in timesrs_satisfaction.columns:\n",
    "    arrival_swtch=True\n",
    "    press_swtch=True\n",
    "    satis_swtch=True\n",
    "    for time in timesrs_satisfaction.index:\n",
    "        if timesrs_satisfaction.at[time,node]>0 and arrival_swtch:\n",
    "            filling_times.at[node,\"Arrival Time (hr)\"]=time/3600\n",
    "            arrival_swtch=False\n",
    "        percent_diff=abs(actual_demands.at[time,node]-demand_rates.at[node,\"Demand\"]*1000)/(demand_rates.at[node,\"Demand\"]*1000)\n",
    "        if  percent_diff<0.001 and press_swtch:\n",
    "            filling_times.at[node,\"Pressurization Time (hr)\"]=time/3600\n",
    "            press_swtch=False\n",
    "        if timesrs_satisfaction.at[time,node]>0.999 and satis_swtch:\n",
    "            filling_times.at[node,\"Satisfaction Time (hr)\"]=time/3600\n",
    "            satis_swtch=False\n",
    "\n",
    "# Optional Saving CSV\n",
    "filling_times.to_csv(directory+name_only+\"_FillingTimes.csv\")"
   ]
  },
  {
   "cell_type": "markdown",
   "id": "7166b346",
   "metadata": {},
   "source": [
    "## Result Visualisation\n",
    "### Demand Satisfaction\n",
    "First we plot the Mean satisfaction in the network with time"
   ]
  },
  {
   "cell_type": "code",
   "execution_count": 11,
   "id": "ab1a02b2",
   "metadata": {},
   "outputs": [
    {
     "data": {
      "text/plain": [
       "<function matplotlib.pyplot.show(close=None, block=None)>"
      ]
     },
     "execution_count": 11,
     "metadata": {},
     "output_type": "execute_result"
    },
    {
     "data": {
      "image/png": "[encoded data removed]",
      "text/plain": [
       "<Figure size 675x450 with 1 Axes>"
      ]
     },
     "metadata": {
      "needs_background": "light"
     },
     "output_type": "display_data"
    }
   ],
   "source": [
    "# Setting Universal Parameters for plotting: dots per inch (dpi), text font and size, label size\n",
    "mpl.rcParams['figure.dpi'] = 450\n",
    "font = {'family' : 'Times',\n",
    "        'weight' : 'bold',\n",
    "        'size'   : 3}\n",
    "mpl.rc('font', **font)\n",
    "mpl.rc('xtick', labelsize=3)\n",
    "mpl.rcParams['axes.linewidth'] = 0.5\n",
    "\n",
    "# Prepping an xaxis with hr format\n",
    "supply_duration_hr=supply_duration/60\n",
    "xaxis=[x/3600 for x in actual_demands.index]\n",
    "\n",
    "fig, ax=plt.subplots()\n",
    "# Change figure size (and aspect ratio) by adjusting height and width here\n",
    "fig.set_figwidth(1.5)\n",
    "fig.set_figheight(1)\n",
    "\n",
    "# Formatting Plot: Setting a Title, x- and y-axis limits, major and minor ticks\n",
    "ax.set_title('Average Demand Satisfaction with Time')\n",
    "ax.set_xlim(0,supply_duration_hr)\n",
    "ax.set_ylim(0,101)\n",
    "ax.set_xticks(np.arange(0,supply_duration_hr+1,4))\n",
    "ax.set_xticks(np.arange(0,supply_duration_hr+1,1),minor=True)\n",
    "ax.set_yticks(np.arange(0,101,25))\n",
    "ax.tick_params(width=0.5)\n",
    "\n",
    "# Data to be plotted: Mean as a percentage (hence the multiplication by 100)\n",
    "# Change color by changing the string next to c= and linewidth by value\n",
    "line1,=ax.plot(xaxis,mean, c='#d73027',linewidth=0.5)\n",
    "plt.xlabel('Supply Time (hr)')\n",
    "plt.ylabel('Satisfaction Ratio (%)')\n",
    "# Optional: show grid or turn on and off spines (Plot box sides)\n",
    "# ax.grid(visible=True,which='both')\n",
    "ax.spines['top'].set_visible(False)\n",
    "ax.spines['right'].set_visible(False)\n",
    "plt.show"
   ]
  },
  {
   "cell_type": "markdown",
   "id": "2327841e",
   "metadata": {},
   "source": [
    "### Plotting the Distribution between Consumers (Equality)\n",
    "Low Percentile, Median and High Percentile are plotted together to show the distribution between consumers with time. Area between Low and High Percentiles will be shaded"
   ]
  },
  {
   "cell_type": "code",
   "execution_count": 12,
   "id": "bb83b968",
   "metadata": {},
   "outputs": [
    {
     "data": {
      "text/plain": [
       "<function matplotlib.pyplot.show(close=None, block=None)>"
      ]
     },
     "execution_count": 12,
     "metadata": {},
     "output_type": "execute_result"
    },
    {
     "data": {
      "image/png": "[encoded data removed]",
      "text/plain": [
       "<Figure size 675x450 with 1 Axes>"
      ]
     },
     "metadata": {
      "needs_background": "light"
     },
     "output_type": "display_data"
    }
   ],
   "source": [
    "fig, ax=plt.subplots()\n",
    "# Change figure size (and aspect ratio) by adjusting height and width here\n",
    "fig.set_figwidth(1.5)\n",
    "fig.set_figheight(1)\n",
    "\n",
    "# Formatting Plot: Setting a Title, x- and y-axis limits, major and minor ticks\n",
    "ax.set_title('Distribution of Demand Satisfaction')\n",
    "ax.set_xlim(0,supply_duration_hr)\n",
    "ax.set_ylim(0,101)\n",
    "ax.set_xticks(np.arange(0,supply_duration_hr+1,4))\n",
    "ax.set_xticks(np.arange(0,supply_duration_hr+1,1),minor=True)\n",
    "ax.set_yticks(np.arange(0,101,25))\n",
    "ax.tick_params(width=0.5)\n",
    "\n",
    "\n",
    "# Data to be plotted: Mean as a percentage (hence the multiplication by 100)\n",
    "# Change color by changing the string next to c= and linewidth by value\n",
    "line1,=ax.plot(xaxis,median, c='#d73027',linewidth=0.5)\n",
    "plt.fill_between(xaxis, y1=low_percentile, y2=high_percentile, alpha=0.4, color='#d73027', edgecolor=None)\n",
    "plt.xlabel('Supply Time (hr)')\n",
    "plt.ylabel('Satisfaction Ratio (%)')\n",
    "# Optional: show grid or turn on and off spines (Plot box sides)\n",
    "# ax.grid(visible=True,which='both')\n",
    "ax.spines['top'].set_visible(False)\n",
    "ax.spines['right'].set_visible(False)\n",
    "plt.show"
   ]
  },
  {
   "cell_type": "markdown",
   "id": "472601a2",
   "metadata": {},
   "source": [
    "### Visualising Filling Times"
   ]
  },
  {
   "cell_type": "markdown",
   "id": "6851e52b",
   "metadata": {},
   "source": [
    "### References:\n",
    "##### [1] A. Campisano, A. Gullotta, and C. Modica, “Using EPA-SWMM to simulate intermittent water distribution systems,” Urban Water Journal, vol. 15, no. 10, pp. 925–933, Nov. 2018, doi: 10.1080/1573062X.2019.1597379."
   ]
  }
 ],
 "metadata": {
  "kernelspec": {
   "display_name": "Python 3.9.7 ('base')",
   "language": "python",
   "name": "python3"
  },
  "language_info": {
   "codemirror_mode": {
    "name": "ipython",
    "version": 3
   },
   "file_extension": ".py",
   "mimetype": "text/x-python",
   "name": "python",
   "nbconvert_exporter": "python",
   "pygments_lexer": "ipython3",
   "version": "3.9.7"
  },
  "vscode": {
   "interpreter": {
    "hash": "40d3a090f54c6569ab1632332b64b2c03c39dcf918b08424e98f38b5ae0af88f"
   }
  }
 },
 "nbformat": 4,
 "nbformat_minor": 5
}
