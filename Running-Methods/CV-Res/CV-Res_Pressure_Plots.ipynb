{
 "cells": [
  {
   "cell_type": "markdown",
   "id": "c32b4610",
   "metadata": {},
   "source": [
    "# Running a CV-Res Simulation [1]\n",
    "### First, Importing required packages & libraries\n",
    "**WNTR** for running EPANET simulations in Python  \n",
    "**NUMPY & PANDAS** for data handling and processing  \n",
    "**MatPlotLib** for plotting output  \n",
    "**timeit** for execution time of EPANET simulation (To compare computational efficiency)  \n",
    "**re** for searching and matching text in the .inp file using regular expressions"
   ]
  },
  {
   "cell_type": "code",
   "execution_count": 1,
   "id": "c4bcd6a6",
   "metadata": {},
   "outputs": [],
   "source": [
    "import wntr  \n",
    "import numpy as np \n",
    "import pandas as pd\n",
    "import matplotlib as mpl\n",
    "from matplotlib import figure\n",
    "import matplotlib.pyplot as plt\n",
    "import timeit \n",
    "import re"
   ]
  },
  {
   "cell_type": "markdown",
   "id": "696690f6",
   "metadata": {},
   "source": [
    "### Specifying paths for simulation files and preprocessing the input\n",
    "**Warning:** *Paths in this script (and the rest of this repo) are absolute unless running the network files provided within the repo*  \n",
    "Input filename (with extensions) as string.  \n",
    "For running the .inp files in this repository, you can use this relative path `\"../../Network-Files/Network X/\"` where X is the network number "
   ]
  },
  {
   "cell_type": "code",
   "execution_count": 11,
   "id": "aff18da7",
   "metadata": {},
   "outputs": [
    {
     "name": "stdout",
     "output_type": "stream",
     "text": [
      "Network2_4hr_CV-Res\n"
     ]
    }
   ],
   "source": [
    " # Replace with appropriate path and filename\n",
    "directory='../../Network-Files/Network 3/'\n",
    "filename='Network3_12hr_CV-Res.inp'\n",
    "name_only=filename[0:-4]\n",
    "print(name_only)\n",
    "abs_path=directory+filename"
   ]
  },
  {
   "cell_type": "markdown",
   "id": "81b18b15",
   "metadata": {},
   "source": [
    "### Parse Input File for Required Information\n",
    "Some key input are needed for postprocessing purposes, and thus need to be extracted from the .inp file  \n",
    "Such as:  \n",
    "* Reservoir IDs to be excluded from nodes in FRW methods\n",
    "* Supply duration for volume calculations in FRW and VRW methods\n",
    "* Number of demand nodes  \n",
    " \n",
    "First, we build the network model using WNTR's network module  \n",
    "then we extract the needed data from the objects built by the network model"
   ]
  },
  {
   "cell_type": "code",
   "execution_count": 12,
   "id": "9d61789a",
   "metadata": {},
   "outputs": [
    {
     "ename": "FileNotFoundError",
     "evalue": "[Errno 2] No such file or directory: '../Network-Files/Network 2/Network2_4hr_CV-Res.inp'",
     "output_type": "error",
     "traceback": [
      "\u001b[0;31m---------------------------------------------------------------------------\u001b[0m",
      "\u001b[0;31mFileNotFoundError\u001b[0m                         Traceback (most recent call last)",
      "\u001b[0;32m/var/folders/z_/ywh_zc6x1fxfxp8_whs2yhnm0000gn/T/ipykernel_7569/431289306.py\u001b[0m in \u001b[0;36m<module>\u001b[0;34m\u001b[0m\n\u001b[1;32m      1\u001b[0m \u001b[0;31m# create network model from input file\u001b[0m\u001b[0;34m\u001b[0m\u001b[0;34m\u001b[0m\u001b[0m\n\u001b[0;32m----> 2\u001b[0;31m \u001b[0mnetwork\u001b[0m \u001b[0;34m=\u001b[0m \u001b[0mwntr\u001b[0m\u001b[0;34m.\u001b[0m\u001b[0mnetwork\u001b[0m\u001b[0;34m.\u001b[0m\u001b[0mWaterNetworkModel\u001b[0m\u001b[0;34m(\u001b[0m\u001b[0mabs_path\u001b[0m\u001b[0;34m)\u001b[0m\u001b[0;34m\u001b[0m\u001b[0;34m\u001b[0m\u001b[0m\n\u001b[0m\u001b[1;32m      3\u001b[0m \u001b[0;34m\u001b[0m\u001b[0m\n\u001b[1;32m      4\u001b[0m \u001b[0mdemand_nodes\u001b[0m\u001b[0;34m=\u001b[0m\u001b[0;34m[\u001b[0m\u001b[0;34m]\u001b[0m\u001b[0;34m\u001b[0m\u001b[0;34m\u001b[0m\u001b[0m\n\u001b[1;32m      5\u001b[0m \u001b[0mdemand_links\u001b[0m\u001b[0;34m=\u001b[0m\u001b[0;34m[\u001b[0m\u001b[0;34m]\u001b[0m        \u001b[0;31m#list of pipes connected to demand nodes only\u001b[0m\u001b[0;34m\u001b[0m\u001b[0;34m\u001b[0m\u001b[0m\n",
      "\u001b[0;32m/opt/anaconda3/lib/python3.9/site-packages/wntr/network/model.py\u001b[0m in \u001b[0;36m__init__\u001b[0;34m(self, inp_file_name)\u001b[0m\n\u001b[1;32m     73\u001b[0m         \u001b[0mself\u001b[0m\u001b[0;34m.\u001b[0m\u001b[0m_inpfile\u001b[0m \u001b[0;34m=\u001b[0m \u001b[0;32mNone\u001b[0m\u001b[0;34m\u001b[0m\u001b[0;34m\u001b[0m\u001b[0m\n\u001b[1;32m     74\u001b[0m         \u001b[0;32mif\u001b[0m \u001b[0minp_file_name\u001b[0m\u001b[0;34m:\u001b[0m\u001b[0;34m\u001b[0m\u001b[0;34m\u001b[0m\u001b[0m\n\u001b[0;32m---> 75\u001b[0;31m             \u001b[0mself\u001b[0m\u001b[0;34m.\u001b[0m\u001b[0mread_inpfile\u001b[0m\u001b[0;34m(\u001b[0m\u001b[0minp_file_name\u001b[0m\u001b[0;34m)\u001b[0m\u001b[0;34m\u001b[0m\u001b[0;34m\u001b[0m\u001b[0m\n\u001b[0m\u001b[1;32m     76\u001b[0m \u001b[0;34m\u001b[0m\u001b[0m\n\u001b[1;32m     77\u001b[0m         \u001b[0;31m# To be deleted and/or renamed and/or moved\u001b[0m\u001b[0;34m\u001b[0m\u001b[0;34m\u001b[0m\u001b[0m\n",
      "\u001b[0;32m/opt/anaconda3/lib/python3.9/site-packages/wntr/network/model.py\u001b[0m in \u001b[0;36mread_inpfile\u001b[0;34m(self, filename)\u001b[0m\n\u001b[1;32m   1483\u001b[0m \u001b[0;34m\u001b[0m\u001b[0m\n\u001b[1;32m   1484\u001b[0m         \"\"\"\n\u001b[0;32m-> 1485\u001b[0;31m         \u001b[0;32mreturn\u001b[0m \u001b[0mwntr\u001b[0m\u001b[0;34m.\u001b[0m\u001b[0mnetwork\u001b[0m\u001b[0;34m.\u001b[0m\u001b[0mio\u001b[0m\u001b[0;34m.\u001b[0m\u001b[0mread_inpfile\u001b[0m\u001b[0;34m(\u001b[0m\u001b[0mfilename\u001b[0m\u001b[0;34m,\u001b[0m \u001b[0mappend\u001b[0m\u001b[0;34m=\u001b[0m\u001b[0mself\u001b[0m\u001b[0;34m)\u001b[0m\u001b[0;34m\u001b[0m\u001b[0;34m\u001b[0m\u001b[0m\n\u001b[0m\u001b[1;32m   1486\u001b[0m \u001b[0;34m\u001b[0m\u001b[0m\n\u001b[1;32m   1487\u001b[0m     \u001b[0;32mdef\u001b[0m \u001b[0mwrite_inpfile\u001b[0m\u001b[0;34m(\u001b[0m\u001b[0mself\u001b[0m\u001b[0;34m,\u001b[0m \u001b[0mfilename\u001b[0m\u001b[0;34m,\u001b[0m \u001b[0munits\u001b[0m\u001b[0;34m=\u001b[0m\u001b[0;32mNone\u001b[0m\u001b[0;34m,\u001b[0m \u001b[0mversion\u001b[0m\u001b[0;34m=\u001b[0m\u001b[0;36m2.2\u001b[0m\u001b[0;34m,\u001b[0m \u001b[0mforce_coordinates\u001b[0m\u001b[0;34m=\u001b[0m\u001b[0;32mFalse\u001b[0m\u001b[0;34m)\u001b[0m\u001b[0;34m:\u001b[0m\u001b[0;34m\u001b[0m\u001b[0;34m\u001b[0m\u001b[0m\n",
      "\u001b[0;32m/opt/anaconda3/lib/python3.9/site-packages/wntr/network/io.py\u001b[0m in \u001b[0;36mread_inpfile\u001b[0;34m(filename, append)\u001b[0m\n\u001b[1;32m    392\u001b[0m     \"\"\"\n\u001b[1;32m    393\u001b[0m     \u001b[0minpfile\u001b[0m \u001b[0;34m=\u001b[0m \u001b[0mwntr\u001b[0m\u001b[0;34m.\u001b[0m\u001b[0mepanet\u001b[0m\u001b[0;34m.\u001b[0m\u001b[0mInpFile\u001b[0m\u001b[0;34m(\u001b[0m\u001b[0;34m)\u001b[0m\u001b[0;34m\u001b[0m\u001b[0;34m\u001b[0m\u001b[0m\n\u001b[0;32m--> 394\u001b[0;31m     \u001b[0mwn\u001b[0m \u001b[0;34m=\u001b[0m \u001b[0minpfile\u001b[0m\u001b[0;34m.\u001b[0m\u001b[0mread\u001b[0m\u001b[0;34m(\u001b[0m\u001b[0mfilename\u001b[0m\u001b[0;34m,\u001b[0m \u001b[0mwn\u001b[0m\u001b[0;34m=\u001b[0m\u001b[0mappend\u001b[0m\u001b[0;34m)\u001b[0m\u001b[0;34m\u001b[0m\u001b[0;34m\u001b[0m\u001b[0m\n\u001b[0m\u001b[1;32m    395\u001b[0m     \u001b[0mwn\u001b[0m\u001b[0;34m.\u001b[0m\u001b[0m_inpfile\u001b[0m \u001b[0;34m=\u001b[0m \u001b[0minpfile\u001b[0m\u001b[0;34m\u001b[0m\u001b[0;34m\u001b[0m\u001b[0m\n\u001b[1;32m    396\u001b[0m     \u001b[0;32mreturn\u001b[0m \u001b[0mwn\u001b[0m\u001b[0;34m\u001b[0m\u001b[0;34m\u001b[0m\u001b[0m\n",
      "\u001b[0;32m/opt/anaconda3/lib/python3.9/site-packages/wntr/epanet/io.py\u001b[0m in \u001b[0;36mread\u001b[0;34m(self, inp_files, wn)\u001b[0m\n\u001b[1;32m    286\u001b[0m           \u001b[0mlnum\u001b[0m \u001b[0;34m=\u001b[0m \u001b[0;36m0\u001b[0m\u001b[0;34m\u001b[0m\u001b[0;34m\u001b[0m\u001b[0m\n\u001b[1;32m    287\u001b[0m           \u001b[0medata\u001b[0m \u001b[0;34m=\u001b[0m \u001b[0;34m{\u001b[0m\u001b[0;34m'fname'\u001b[0m\u001b[0;34m:\u001b[0m \u001b[0mfilename\u001b[0m\u001b[0;34m}\u001b[0m\u001b[0;34m\u001b[0m\u001b[0;34m\u001b[0m\u001b[0m\n\u001b[0;32m--> 288\u001b[0;31m           \u001b[0;32mwith\u001b[0m \u001b[0mio\u001b[0m\u001b[0;34m.\u001b[0m\u001b[0mopen\u001b[0m\u001b[0;34m(\u001b[0m\u001b[0mfilename\u001b[0m\u001b[0;34m,\u001b[0m \u001b[0;34m'r'\u001b[0m\u001b[0;34m,\u001b[0m \u001b[0mencoding\u001b[0m\u001b[0;34m=\u001b[0m\u001b[0;34m'utf-8'\u001b[0m\u001b[0;34m)\u001b[0m \u001b[0;32mas\u001b[0m \u001b[0mf\u001b[0m\u001b[0;34m:\u001b[0m\u001b[0;34m\u001b[0m\u001b[0;34m\u001b[0m\u001b[0m\n\u001b[0m\u001b[1;32m    289\u001b[0m             \u001b[0;32mfor\u001b[0m \u001b[0mline\u001b[0m \u001b[0;32min\u001b[0m \u001b[0mf\u001b[0m\u001b[0;34m:\u001b[0m\u001b[0;34m\u001b[0m\u001b[0;34m\u001b[0m\u001b[0m\n\u001b[1;32m    290\u001b[0m                 \u001b[0mlnum\u001b[0m \u001b[0;34m+=\u001b[0m \u001b[0;36m1\u001b[0m\u001b[0;34m\u001b[0m\u001b[0;34m\u001b[0m\u001b[0m\n",
      "\u001b[0;31mFileNotFoundError\u001b[0m: [Errno 2] No such file or directory: '../Network-Files/Network 2/Network2_4hr_CV-Res.inp'"
     ]
    }
   ],
   "source": [
    "# create network model from input file\n",
    "network = wntr.network.WaterNetworkModel(abs_path)\n",
    "\n",
    "demand_nodes=[]\n",
    "demand_links=[]        #list of pipes connected to demand nodes only\n",
    "lengths=[]\n",
    "diameters=[]\n",
    "hwcoeff=[]\n",
    "\n",
    "for link in network.links():\n",
    "    if re.search('^PipeforNode',link[1].name):\n",
    "        demand_links.append(link[1].name)\n",
    "        lengths.append(link[1].length)\n",
    "        diameters.append(link[1].diameter)\n",
    "        hwcoeff.append(link[1].roughness)\n",
    "# Get the supply duration in minutes (/60) as an integer\n",
    "supply_duration=int(network.options.time.duration/60)"
   ]
  },
  {
   "cell_type": "code",
   "execution_count": 60,
   "id": "57f36a26",
   "metadata": {},
   "outputs": [],
   "source": [
    "lengths=np.array(lengths)\n",
    "diameters=np.array(diameters)\n",
    "hwcoeff=np.array(hwcoeff)\n",
    "\n",
    "desired_head=10\n",
    "minimum_head=0\n",
    "head_diff=desired_head-minimum_head\n",
    "desired_demands=(head_diff/lengths*hwcoeff**1.852*diameters**4.8704/10.67)**0.54"
   ]
  },
  {
   "cell_type": "markdown",
   "id": "0dceb200",
   "metadata": {},
   "source": [
    "### Running an EPANET simulation through WNTR\n"
   ]
  },
  {
   "cell_type": "code",
   "execution_count": 61,
   "id": "84efee3d",
   "metadata": {},
   "outputs": [],
   "source": [
    "# run simulation\n",
    "sim = wntr.sim.EpanetSimulator(network)\n",
    "# store results of simulation\n",
    "results=sim.run_sim()"
   ]
  },
  {
   "cell_type": "markdown",
   "id": "de5bcf96",
   "metadata": {},
   "source": [
    "### Extracting and filtering the results"
   ]
  },
  {
   "cell_type": "code",
   "execution_count": 62,
   "id": "93466b1a",
   "metadata": {},
   "outputs": [],
   "source": [
    "timesrs_demand=pd.DataFrame()\n",
    "timesrs_demand[0]=results.node['pressure'].loc[0,:]\n",
    "for i in range(1,supply_duration+1):\n",
    "\n",
    "    # Extract Node Pressures from Results\n",
    "    timesrs_demand=pd.concat([timesrs_demand,results.node['pressure'].loc[i*60,:]],axis=1)\n",
    "\n",
    "# Transpose DataFrame such that indices are time (sec) and Columns are each Node\n",
    "timesrs_demand=timesrs_demand.T\n",
    "# Filter DataFrame for Columns that contain Data for demand nodes only i.e., Tanks in STM\n",
    "node_list=[]\n",
    "for column in timesrs_demand.columns:\n",
    "    if re.search('^AR',column):\n",
    "        node_list.append(column[2:])\n",
    "# Filter DataFrame for Columns that contain Data for demand nodes only i.e., Tanks in STM\n",
    "timesrs=timesrs_demand.filter(node_list,axis=1)\n"
   ]
  },
  {
   "cell_type": "markdown",
   "id": "75c6d646",
   "metadata": {},
   "source": [
    "### Calculating Consumer Satisfaction Statistics\n",
    "To get a better grasp of how the demands were distributed among consumers, we calculate some descriptive stats at each time step  \n",
    "**Mean Satisfaction** describes the average state throughout the network, only reaches 100 if all demands are satisfied  \n",
    "**Low percentile, Median, and High Percentile** at each time step for a sense of the shape of the distribution (for equality considerations) with time  \n",
    "Choose the low percentile number desired (e.g., 10<sup>th</sup> percentile) and the high percentile (e.g., 90<sup>th</sup> Percentile) by changing their respective values below "
   ]
  },
  {
   "cell_type": "code",
   "execution_count": 63,
   "id": "4c46ada3",
   "metadata": {},
   "outputs": [],
   "source": [
    "# Intialize Series for storing statistics\n",
    "mean=pd.Series(dtype='float64')\n",
    "median=pd.Series(dtype='float64')\n",
    "low_percentile=pd.Series(dtype='float64')\n",
    "high_percentile=pd.Series(dtype='float64')\n",
    "\n",
    "# Set the percentile values to be calculated\n",
    "low_percent_val=10   # Range 0 to 100 ONLY\n",
    "high_percent_val=90  # Range 0 to 100 ONLY\n",
    "\n",
    "# Loop over each row (time step) in the results and calculate values of mean, median, low and high percentiles\n",
    "for row in timesrs.index:\n",
    "    mean.loc[row]=np.mean(timesrs.loc[row,:])\n",
    "    low_percentile.loc[row]=np.percentile(timesrs.loc[row,:],low_percent_val)\n",
    "    median.loc[row]=np.percentile(timesrs.loc[row,:],50)\n",
    "    high_percentile.loc[row]=np.percentile(timesrs.loc[row,:],high_percent_val)"
   ]
  },
  {
   "cell_type": "markdown",
   "id": "88641ff8",
   "metadata": {},
   "source": [
    "### (Optional) Save .csv files with  Results & Stats\n",
    "Comment out any files you do not need, or skip this cell entirely if you don't want any files saved to your local device"
   ]
  },
  {
   "cell_type": "code",
   "execution_count": 47,
   "id": "7bc2a2c4",
   "metadata": {},
   "outputs": [],
   "source": [
    "# Saves Entire Results DataFrame as Filename_TimeSeries.csv in the same path\n",
    "timesrs_demand.to_csv(directory+name_only+\"_TimeSeries.csv\")\n",
    "\n",
    "# Saves Mean Satisfaction with time as Filename_Means.csv in the same path\n",
    "mean.to_csv(directory+name_only+\"_Means.csv\")\n",
    "\n",
    "# Saves Median Satisfaction with time as Filename_Medians.csv in the same path\n",
    "median.to_csv(directory+name_only+\"_Medians.csv\")\n",
    "\n",
    "# Saves the specified low percentile (XX) values with time as Filename_XXthPercentile.csv in the same path\n",
    "low_percentile.to_csv(directory+name_only+\"_\"+str(low_percent_val)+\"thPercentile.csv\")\n",
    "\n",
    "# Saves the specified high percentile (YY) values with time as Filename_YYthPercentile.csv in the same path\n",
    "high_percentile.to_csv(directory+name_only+\"_\"+str(high_percent_val)+\"thPercentile.csv\")"
   ]
  },
  {
   "cell_type": "markdown",
   "id": "7166b346",
   "metadata": {},
   "source": [
    "### Result Visualisation\n",
    "First we plot the Mean satisfaction in the network with time"
   ]
  },
  {
   "cell_type": "code",
   "execution_count": 64,
   "id": "ab1a02b2",
   "metadata": {},
   "outputs": [
    {
     "data": {
      "text/plain": [
       "<function matplotlib.pyplot.show(close=None, block=None)>"
      ]
     },
     "execution_count": 64,
     "metadata": {},
     "output_type": "execute_result"
    },
    {
     "data": {
      "image/png": "[encoded data removed]",
      "text/plain": [
       "<Figure size 675x450 with 1 Axes>"
      ]
     },
     "metadata": {
      "needs_background": "light"
     },
     "output_type": "display_data"
    }
   ],
   "source": [
    "# Setting Universal Parameters for plotting: dots per inch (dpi), text font and size, label size\n",
    "mpl.rcParams['figure.dpi'] = 450\n",
    "font = {'family' : 'Times',\n",
    "        'weight' : 'bold',\n",
    "        'size'   : 3}\n",
    "mpl.rc('font', **font)\n",
    "mpl.rc('xtick', labelsize=3)\n",
    "mpl.rcParams['axes.linewidth'] = 0.5\n",
    "\n",
    "# Prepping an xaxis with hr format\n",
    "supply_duration_hr=supply_duration/60\n",
    "xaxis=np.arange(0,supply_duration_hr+0.00001,1/60)\n",
    "\n",
    "fig, ax=plt.subplots()\n",
    "# Change figure size (and aspect ratio) by adjusting height and width here\n",
    "fig.set_figwidth(1.5)\n",
    "fig.set_figheight(1)\n",
    "\n",
    "# Formatting Plot: Setting a Title, x- and y-axis limits, major and minor ticks\n",
    "ax.set_title('Average Demand Satisfaction with Time')\n",
    "ax.set_xlim(0,supply_duration_hr)\n",
    "# ax.set_ylim(0,101)\n",
    "ax.set_xticks(np.arange(0,supply_duration_hr+1,4))\n",
    "ax.set_xticks(np.arange(0,supply_duration_hr+1,1),minor=True)\n",
    "# ax.set_yticks(np.arange(0,101,25))\n",
    "ax.tick_params(width=0.5)\n",
    "\n",
    "# Data to be plotted: Mean as a percentage (hence the multiplication by 100)\n",
    "# Change color by changing the string next to c= and linewidth by value\n",
    "line1,=ax.plot(xaxis,mean, c='#d73027',linewidth=0.5)\n",
    "plt.xlabel('Supply Time (hr)')\n",
    "plt.ylabel('Satisfaction Ratio (%)')\n",
    "# Optional: show grid or turn on and off spines (Plot box sides)\n",
    "# ax.grid(visible=True,which='both')\n",
    "ax.spines['top'].set_visible(False)\n",
    "ax.spines['right'].set_visible(False)\n",
    "plt.show"
   ]
  },
  {
   "cell_type": "markdown",
   "id": "2327841e",
   "metadata": {},
   "source": [
    "### Plotting the Distribution between Consumers (Equality)\n",
    "Low Percentile, Median and High Percentile are plotted together to show the distribution between consumers with time. Area between Low and High Percentiles will be shaded"
   ]
  },
  {
   "cell_type": "code",
   "execution_count": 66,
   "id": "bb83b968",
   "metadata": {},
   "outputs": [
    {
     "data": {
      "text/plain": [
       "<function matplotlib.pyplot.show(close=None, block=None)>"
      ]
     },
     "execution_count": 66,
     "metadata": {},
     "output_type": "execute_result"
    },
    {
     "data": {
      "image/png": "[encoded data removed]",
      "text/plain": [
       "<Figure size 1800x1200 with 1 Axes>"
      ]
     },
     "metadata": {
      "needs_background": "light"
     },
     "output_type": "display_data"
    }
   ],
   "source": [
    "font = {'family' : 'Times',\n",
    "        'weight' : 'bold',\n",
    "        'size'   : 12}\n",
    "\n",
    "mpl.rc('font', **font)\n",
    "mpl.rcParams['figure.dpi'] = 300\n",
    "# Prepping an xaxis with hr format\n",
    "supply_duration_hr=supply_duration/60\n",
    "xaxis=np.arange(0,supply_duration_hr+0.00001,1/60)\n",
    "\n",
    "fig, ax=plt.subplots()\n",
    "# Change figure size (and aspect ratio) by adjusting height and width here\n",
    "fig.set_figwidth(6)\n",
    "fig.set_figheight(4)\n",
    "\n",
    "# Formatting Plot: Setting a Title, x- and y-axis limits, major and minor ticks\n",
    "# ax.set_title('Pressure Distrib')\n",
    "ax.set_xlim(0,supply_duration_hr)\n",
    "ax.set_ylim(0,25)\n",
    "ax.set_xticks(np.arange(0,supply_duration_hr+1,4))\n",
    "ax.set_xticks(np.arange(0,supply_duration_hr+1,1),minor=True)\n",
    "ax.set_yticks(np.arange(0,26,5))\n",
    "ax.tick_params(width=0.5)\n",
    "\n",
    "\n",
    "# Data to be plotted: Mean as a percentage (hence the multiplication by 100)\n",
    "# Change color by changing the string next to c= and linewidth by value\n",
    "line1,=ax.plot(xaxis,mean, c='#fee090',linewidth=2)\n",
    "ax.tick_params(axis='both',labelsize='8')\n",
    "plt.fill_between(xaxis, y1=low_percentile, y2=high_percentile, alpha=0.4, color='#fee090', edgecolor=None)\n",
    "plt.xlabel('Supply Time (hr)')\n",
    "plt.ylabel('Nodal Pressure (m)')\n",
    "# Optional: show grid or turn on and off spines (Plot box sides)\n",
    "# ax.grid(visible=True,which='both')\n",
    "ax.spines['top'].set_visible(False)\n",
    "ax.spines['right'].set_visible(False)\n",
    "plt.savefig('/Users/omaraliamer/Desktop/UofT/Res_Pressures.png',transparent=True,dpi=600)\n",
    "\n",
    "plt.show\n"
   ]
  },
  {
   "cell_type": "markdown",
   "id": "71118428",
   "metadata": {},
   "source": [
    "### References:\n",
    "##### [1] S. Mohapatra, A. Sargaonkar, and P. K. Labhasetwar, “Distribution Network Assessment using EPANET for Intermittent and Continuous Water Supply,” Water Resources Management, vol. 28, no. 11, pp. 3745–3759, Sep. 2014, doi: 10.1007/s11269-014-0707-y."
   ]
  }
 ],
 "metadata": {
  "kernelspec": {
   "display_name": "Python 3.9.7",
   "language": "python",
   "name": "python3"
  },
  "language_info": {
   "codemirror_mode": {
    "name": "ipython",
    "version": 3
   },
   "file_extension": ".py",
   "mimetype": "text/x-python",
   "name": "python",
   "nbconvert_exporter": "python",
   "pygments_lexer": "ipython3",
   "version": "3.9.7"
  },
  "vscode": {
   "interpreter": {
    "hash": "40d3a090f54c6569ab1632332b64b2c03c39dcf918b08424e98f38b5ae0af88f"
   }
  }
 },
 "nbformat": 4,
 "nbformat_minor": 5
}
