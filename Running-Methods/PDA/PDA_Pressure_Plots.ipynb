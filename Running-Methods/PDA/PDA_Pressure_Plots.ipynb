{
 "cells": [
  {
   "cell_type": "markdown",
   "id": "c32b4610",
   "metadata": {},
   "source": [
    "# Running an EPANET-PDA Simulation [1]\n",
    "### First, Importing required packages & libraries\n",
    "**WNTR** for running EPANET simulations in Python  \n",
    "**NUMPY & PANDAS** for data handling and processing  \n",
    "**MatPlotLib** for plotting output  \n",
    "**timeit** for execution time of EPANET simulation (To compare computational efficiency)  \n",
    "**re** for searching and matching text in the .inp file using regular expressions"
   ]
  },
  {
   "cell_type": "code",
   "execution_count": 2,
   "id": "c4bcd6a6",
   "metadata": {},
   "outputs": [],
   "source": [
    "import wntr  \n",
    "import numpy as np \n",
    "import pandas as pd\n",
    "import matplotlib as mpl\n",
    "from matplotlib import figure\n",
    "import matplotlib.pyplot as plt\n",
    "import timeit \n",
    "import re"
   ]
  },
  {
   "cell_type": "markdown",
   "id": "696690f6",
   "metadata": {},
   "source": [
    "### Specifying paths for simulation files and preprocessing the input\n",
    "**Warning:** *Paths in this script (and the rest of this repo) are absolute unless running the network files provided within the repo*  \n",
    "Input filename (with extensions) as string.  \n",
    "For running the .inp files in this repository, you can use this relative path `\"../../Network-Files/Network X/\"` where X is the network number "
   ]
  },
  {
   "cell_type": "code",
   "execution_count": 1,
   "id": "aff18da7",
   "metadata": {},
   "outputs": [
    {
     "name": "stdout",
     "output_type": "stream",
     "text": [
      "Selected File:  Network3_4hr_PDA_Pressures\n"
     ]
    }
   ],
   "source": [
    " # Replace with appropriate path and filename\n",
    "directory='../../Network-Files/Network 3/'\n",
    "filename='Network3_12hr_PDA.inp'\n",
    "name_only=filename[0:-4]+\"_Pressures\"\n",
    "print(\"Selected File: \",name_only)\n",
    "abs_path=directory+filename"
   ]
  },
  {
   "cell_type": "markdown",
   "id": "81b18b15",
   "metadata": {},
   "source": [
    "### Parse Input File for Required Information\n",
    "Some key input are needed for postprocessing purposes, and thus need to be extracted from the .inp file  \n",
    "Such as:  \n",
    "* Supply duration for volume calculations in FRW and VRW methods\n",
    "* Number & list of demand nodes (for filtering and averaging)  \n",
    "* List of base demand rates for volume calculations  \n",
    "  \n",
    "First, we build the network model using WNTR's network module  \n",
    "then we extract the needed data from the objects built by the network model"
   ]
  },
  {
   "cell_type": "code",
   "execution_count": 19,
   "id": "268c5945",
   "metadata": {},
   "outputs": [],
   "source": [
    "demand_nodes=[]       # For storing list of nodes that have non-zero demands\n",
    "desired_demands=[]    # For storing demand rates desired by each node for desired volume calculations\n",
    "\n",
    "# Creates a network model object using EPANET .inp file\n",
    "network=wntr.network.WaterNetworkModel(abs_path)\n",
    "\n",
    "# Iterates over the junction list in the Network object\n",
    "for node in network.junctions():\n",
    "\n",
    "    # For all nodes that have non-zero demands\n",
    "    if node[1].base_demand != 0:\n",
    "        # Record node ID (name) and its desired demand (base_demand) in CMS\n",
    "        demand_nodes.append(node[1].name)\n",
    "        desired_demands.append(node[1].base_demand)\n",
    "\n",
    "# Get the supply duration in minutes (/60) as an integer\n",
    "supply_duration=int(network.options.time.duration/60)"
   ]
  },
  {
   "cell_type": "markdown",
   "id": "0dceb200",
   "metadata": {},
   "source": [
    "### Running an EPANET simulation through WNTR\n"
   ]
  },
  {
   "cell_type": "code",
   "execution_count": 20,
   "id": "84efee3d",
   "metadata": {},
   "outputs": [],
   "source": [
    "# run simulation\n",
    "sim = wntr.sim.EpanetSimulator(network)\n",
    "# store results of simulation\n",
    "results=sim.run_sim()"
   ]
  },
  {
   "cell_type": "markdown",
   "id": "68dd4ee9",
   "metadata": {},
   "source": [
    "### (OPTIONAL) Running a timed simulation \n",
    "for assessing computational efficiency. Requires a number of iterations to average timing over."
   ]
  },
  {
   "cell_type": "code",
   "execution_count": 16,
   "id": "c6d064a8",
   "metadata": {},
   "outputs": [
    {
     "name": "stdout",
     "output_type": "stream",
     "text": [
      "Time taken for  Network1_4hr_PDA.inp  is  2.15 milliseconds per run\n"
     ]
    }
   ],
   "source": [
    "# Specify number of iterations to time and average over (more= more confidence in mean time per run)\n",
    "n_iterations=1000\n",
    "\n",
    "# Statement to be timed: read filename, create network model, run network simulation\n",
    "timed_lines='inp_file='+\"'\"+abs_path+\"'\"\n",
    "timed_lines=timed_lines+'''\n",
    "wn = wntr.network.WaterNetworkModel(inp_file) \n",
    "wntr.sim.EpanetSimulator(wn)\n",
    "'''\n",
    "\n",
    "# Time and average over number of iterations\n",
    "time=np.round(timeit.timeit(stmt=timed_lines,setup='import wntr',number=n_iterations)/n_iterations*1000,decimals=2)\n",
    "print(\"Time taken for \",filename,' is ', time, 'milliseconds per run')"
   ]
  },
  {
   "cell_type": "markdown",
   "id": "de5bcf96",
   "metadata": {},
   "source": [
    "### Extracting and filtering the results\n",
    "The results object produce by WNTR has a .node module which stores the values of several variables including Demand (cum) which is the flow rate withdrawn in this time step  \n",
    "We extract the demands into a DataFrame indexed by time and columns represent nodes  \n",
    "Nodes that were assigned demands were identified earlier, and thus any other nodes are filtered out"
   ]
  },
  {
   "cell_type": "code",
   "execution_count": 21,
   "id": "93466b1a",
   "metadata": {},
   "outputs": [],
   "source": [
    "timesrs_pressures=pd.DataFrame()\n",
    "timesrs_pressures[0]=results.node['demand'].loc[0,:]\n",
    "res=results.node['demand']\n",
    "for i in range(1,supply_duration+1):\n",
    "    # Extract Node Pressures from Results\n",
    "    timesrs_pressures=pd.concat([timesrs_pressures,results.node['pressure'].loc[i*60,:]],axis=1)\n",
    "\n",
    "# Transpose DataFrame such that indices are time (sec) and Columns are each Node\n",
    "timesrs_pressures=timesrs_pressures.T\n",
    "# Filter DataFrame for Columns that contain Data for demand nodes only\n",
    "timesrs_pressures=timesrs_pressures[demand_nodes]"
   ]
  },
  {
   "cell_type": "markdown",
   "id": "75c6d646",
   "metadata": {},
   "source": [
    "### Calculating Consumer Satisfaction Statistics\n",
    "To get a better grasp of how the demands were distributed among consumers, we calculate some descriptive stats at each time step  \n",
    "**Mean Satisfaction** describes the average state throughout the network, only reaches 100 if all demands are satisfied  \n",
    "**Low percentile, Median, and High Percentile** at each time step for a sense of the shape of the distribution (for equality considerations) with time  \n",
    "Choose the low percentile number desired (e.g., 10<sup>th</sup> percentile) and the high percentile (e.g., 90<sup>th</sup> Percentile) by changing their respective values below "
   ]
  },
  {
   "cell_type": "code",
   "execution_count": 22,
   "id": "4c46ada3",
   "metadata": {},
   "outputs": [],
   "source": [
    "# Intialize Series for storing statistics\n",
    "mean=pd.Series(dtype='float64')\n",
    "median=pd.Series(dtype='float64')\n",
    "low_percentile=pd.Series(dtype='float64')\n",
    "high_percentile=pd.Series(dtype='float64')\n",
    "\n",
    "# Set the percentile values to be calculated\n",
    "low_percent_val=10   # Range 0 to 100 ONLY\n",
    "high_percent_val=90  # Range 0 to 100 ONLY\n",
    "\n",
    "# Loop over each row (time step) in the results and calculate values of mean, median, low and high percentiles\n",
    "for row in timesrs_pressures.index:\n",
    "    mean.loc[row]=np.mean(timesrs_pressures.loc[row,:])\n",
    "    low_percentile.loc[row]=np.percentile(timesrs_pressures.loc[row,:],low_percent_val)\n",
    "    median.loc[row]=np.percentile(timesrs_pressures.loc[row,:],50)\n",
    "    high_percentile.loc[row]=np.percentile(timesrs_pressures.loc[row,:],high_percent_val)"
   ]
  },
  {
   "cell_type": "markdown",
   "id": "88641ff8",
   "metadata": {},
   "source": [
    "### (Optional) Save .csv files with  Results & Stats\n",
    "Comment out any files you do not need, or skip this cell entirely if you don't want any files saved to your local device"
   ]
  },
  {
   "cell_type": "code",
   "execution_count": 33,
   "id": "7bc2a2c4",
   "metadata": {},
   "outputs": [],
   "source": [
    "# Saves Entire Results DataFrame as Filename_TimeSeries.csv in the same path\n",
    "timesrs_pressures.to_csv(directory+name_only+\"_TimeSeries.csv\")\n",
    "\n",
    "# Saves Mean Satisfaction with time as Filename_Means.csv in the same path\n",
    "mean.to_csv(directory+name_only+\"_Means.csv\")\n",
    "\n",
    "# Saves Median Satisfaction with time as Filename_Medians.csv in the same path\n",
    "median.to_csv(directory+name_only+\"_Medians.csv\")\n",
    "\n",
    "# Saves the specified low percentile (XX) values with time as Filename_XXthPercentile.csv in the same path\n",
    "low_percentile.to_csv(directory+name_only+\"_\"+str(low_percent_val)+\"thPercentile.csv\")\n",
    "\n",
    "# Saves the specified high percentile (YY) values with time as Filename_YYthPercentile.csv in the same path\n",
    "high_percentile.to_csv(directory+name_only+\"_\"+str(high_percent_val)+\"thPercentile.csv\")"
   ]
  },
  {
   "cell_type": "markdown",
   "id": "7166b346",
   "metadata": {},
   "source": [
    "### Result Visualisation\n",
    "First we plot the Mean satisfaction in the network with time"
   ]
  },
  {
   "cell_type": "code",
   "execution_count": 23,
   "id": "ab1a02b2",
   "metadata": {},
   "outputs": [
    {
     "data": {
      "text/plain": [
       "<function matplotlib.pyplot.show(close=None, block=None)>"
      ]
     },
     "execution_count": 23,
     "metadata": {},
     "output_type": "execute_result"
    },
    {
     "data": {
      "image/png": "[encoded data removed]",
      "text/plain": [
       "<Figure size 675x450 with 1 Axes>"
      ]
     },
     "metadata": {
      "needs_background": "light"
     },
     "output_type": "display_data"
    }
   ],
   "source": [
    "# Setting Universal Parameters for plotting: dots per inch (dpi), text font and size, label size\n",
    "mpl.rcParams['figure.dpi'] = 450\n",
    "font = {'family' : 'Times',\n",
    "        'weight' : 'bold',\n",
    "        'size'   : 3}\n",
    "mpl.rc('font', **font)\n",
    "mpl.rc('xtick', labelsize=3)\n",
    "mpl.rcParams['axes.linewidth'] = 0.5\n",
    "\n",
    "# Prepping an xaxis with hr format\n",
    "supply_duration_hr=supply_duration/60\n",
    "xaxis=np.arange(0,supply_duration_hr+0.00001,1/60)\n",
    "\n",
    "fig, ax=plt.subplots()\n",
    "# Change figure size (and aspect ratio) by adjusting height and width here\n",
    "fig.set_figwidth(1.5)\n",
    "fig.set_figheight(1)\n",
    "\n",
    "# Formatting Plot: Setting a Title, x- and y-axis limits, major and minor ticks\n",
    "ax.set_title('Average Demand Satisfaction with Time')\n",
    "ax.set_xlim(0,supply_duration_hr)\n",
    "ax.set_ylim(0,101)\n",
    "ax.set_xticks(np.arange(0,supply_duration_hr+1,4))\n",
    "ax.set_xticks(np.arange(0,supply_duration_hr+1,1),minor=True)\n",
    "ax.set_yticks(np.arange(0,101,25))\n",
    "ax.tick_params(width=0.5)\n",
    "\n",
    "# Data to be plotted: Mean as a percentage (hence the multiplication by 100)\n",
    "# Change color by changing the string next to c= and linewidth by value\n",
    "line1,=ax.plot(xaxis,mean, c='#4575b4',linewidth=0.5)\n",
    "plt.xlabel('Supply Time (hr)')\n",
    "plt.ylabel('Satisfaction Ratio (%)')\n",
    "# Optional: show grid or turn on and off spines (Plot box sides)\n",
    "# ax.grid(visible=True,which='both')\n",
    "ax.spines['top'].set_visible(False)\n",
    "ax.spines['right'].set_visible(False)\n",
    "plt.show"
   ]
  },
  {
   "cell_type": "markdown",
   "id": "2327841e",
   "metadata": {},
   "source": [
    "### Plotting the Distribution between Consumers (Equality)\n",
    "Low Percentile, Median and High Percentile are plotted together to show the distribution between consumers with time. Area between Low and High Percentiles will be shaded"
   ]
  },
  {
   "cell_type": "code",
   "execution_count": 26,
   "id": "bb83b968",
   "metadata": {},
   "outputs": [
    {
     "data": {
      "text/plain": [
       "<function matplotlib.pyplot.show(close=None, block=None)>"
      ]
     },
     "execution_count": 26,
     "metadata": {},
     "output_type": "execute_result"
    },
    {
     "data": {
      "image/png": "[encoded data removed]",
      "text/plain": [
       "<Figure size 1800x1200 with 1 Axes>"
      ]
     },
     "metadata": {
      "needs_background": "light"
     },
     "output_type": "display_data"
    }
   ],
   "source": [
    "font = {'family' : 'Times',\n",
    "        'weight' : 'bold',\n",
    "        'size'   : 12}\n",
    "\n",
    "mpl.rc('font', **font)\n",
    "mpl.rcParams['figure.dpi'] = 300\n",
    "# Prepping an xaxis with hr format\n",
    "supply_duration_hr=supply_duration/60\n",
    "xaxis=np.arange(0,supply_duration_hr+0.00001,1/60)\n",
    "\n",
    "fig, ax=plt.subplots()\n",
    "# Change figure size (and aspect ratio) by adjusting height and width here\n",
    "fig.set_figwidth(6)\n",
    "fig.set_figheight(4)\n",
    "\n",
    "# Formatting Plot: Setting a Title, x- and y-axis limits, major and minor ticks\n",
    "# ax.set_title('Distribution of Demand Satisfaction')\n",
    "ax.set_xlim(0,supply_duration_hr)\n",
    "ax.set_ylim(0,25)\n",
    "ax.set_xticks(np.arange(0,supply_duration_hr+1,4))\n",
    "ax.set_xticks(np.arange(0,supply_duration_hr+1,1),minor=True)\n",
    "ax.set_yticks(np.arange(0,26,5))\n",
    "ax.tick_params(width=0.5)\n",
    "\n",
    "\n",
    "# Data to be plotted: Mean as a percentage (hence the multiplication by 100)\n",
    "# Change color by changing the string next to c= and linewidth by value\n",
    "line1,=ax.plot(xaxis,mean, c='#4575b4',linewidth=2)\n",
    "ax.tick_params(axis='both',labelsize='8')\n",
    "plt.fill_between(xaxis, y1=low_percentile, y2=high_percentile, alpha=0.4, color='#4575b4', edgecolor=None)\n",
    "plt.xlabel('Supply Time (hr)')\n",
    "plt.ylabel('Nodal Pressure (m)')\n",
    "# Optional: show grid or turn on and off spines (Plot box sides)\n",
    "# ax.grid(visible=True,which='both')\n",
    "ax.spines['top'].set_visible(False)\n",
    "ax.spines['right'].set_visible(False)\n",
    "plt.savefig('/Users/omaraliamer/Desktop/UofT/PDA_Pressures.png',transparent=True,dpi=600)\n",
    "plt.show"
   ]
  },
  {
   "cell_type": "markdown",
   "id": "5367878e",
   "metadata": {},
   "source": [
    "### References\n",
    "##### [1] L. Rossman, H. Woo, M. Tryby, F. Shang, R. Janke, and T. Haxton, “EPANET 2.2 User Manual,” Washington D.C., 2020. Accessed: May 12, 2022. [Online]. Available: https://cfpub.epa.gov/si/si_public_file_download.cfm?p_download_id=541156&Lab=CESER"
   ]
  }
 ],
 "metadata": {
  "kernelspec": {
   "display_name": "Python 3 (ipykernel)",
   "language": "python",
   "name": "python3"
  },
  "language_info": {
   "codemirror_mode": {
    "name": "ipython",
    "version": 3
   },
   "file_extension": ".py",
   "mimetype": "text/x-python",
   "name": "python",
   "nbconvert_exporter": "python",
   "pygments_lexer": "ipython3",
   "version": "3.9.7"
  },
  "vscode": {
   "interpreter": {
    "hash": "40d3a090f54c6569ab1632332b64b2c03c39dcf918b08424e98f38b5ae0af88f"
   }
  }
 },
 "nbformat": 4,
 "nbformat_minor": 5
}
