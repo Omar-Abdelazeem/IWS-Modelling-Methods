{
 "cells": [
  {
   "cell_type": "code",
   "execution_count": 1,
   "metadata": {},
   "outputs": [],
   "source": [
    "import wntr  \n",
    "import numpy as np \n",
    "import pandas as pd\n",
    "import re\n",
    "import pathlib\n",
    "import iws_modelling"
   ]
  },
  {
   "cell_type": "code",
   "execution_count": 4,
   "metadata": {},
   "outputs": [
    {
     "name": "stdout",
     "output_type": "stream",
     "text": [
      "Selected File:  Network2_\n"
     ]
    },
    {
     "data": {
      "text/plain": [
       "WindowsPath('../Network-Files/Network 1/Network2_4hr.inp')"
      ]
     },
     "execution_count": 4,
     "metadata": {},
     "output_type": "execute_result"
    }
   ],
   "source": [
    " # Replace with appropriate path and filename\n",
    "directory=pathlib.Path(\"../Network-Files/Network 1\")\n",
    "filename=pathlib.Path(\"Network2_4hr_PDA.inp\")\n",
    "name_only=filename.stem.split(\"_\")[0:-2]\n",
    "name_only=\"_\".join(name_only)+\"_\"\n",
    "print(\"Selected File: \",name_only)\n",
    "path=directory/filename\n",
    "path.with_stem(path.stem[0:-4])"
   ]
  },
  {
   "cell_type": "code",
   "execution_count": 5,
   "metadata": {},
   "outputs": [
    {
     "name": "stdout",
     "output_type": "stream",
     "text": [
      "Selected File:  Network1_8hr_PDA\n",
      "Selected File:  Network1_8hr_PDA\n",
      "..\\Network-Files\\Network 1\\Network1_8hr_CV-Tank.inp\n",
      "Selected File:  Network1_8hr_PDA\n",
      "Selected File:  Network1_8hr_PDA\n",
      "Selected File:  Network1_8hr_PDA\n",
      "Selected File:  Network1_8hr_PDA\n",
      "Selected File:  Network1_8hr\n"
     ]
    },
    {
     "data": {
      "text/plain": [
       "[WindowsPath('../Network-Files/Network 1/Network1_8hr_CV-Res.inp'),\n",
       " WindowsPath('../Network-Files/Network 1/Network1_8hr_CV-Tank.inp'),\n",
       " WindowsPath('../Network-Files/Network 1/Network1_8hr_FCV-EM.inp'),\n",
       " WindowsPath('../Network-Files/Network 1/Network1_8hr_FCV-Res.inp'),\n",
       " WindowsPath('../Network-Files/Network 1/Network1_8hr_PSV-Tank.inp'),\n",
       " WindowsPath('../Network-Files/Network 1/Network1_8hr_100m_Outlet-Outfall.inp'),\n",
       " WindowsPath('../Network-Files/Network 1/Network1_8hr_100m_Outlet-Storage.inp')]"
      ]
     },
     "execution_count": 5,
     "metadata": {},
     "output_type": "execute_result"
    }
   ],
   "source": [
    "iws_modelling.to_all(directory/pathlib.Path(\"Network1_8hr_PDA.inp\"),0,10,100)"
   ]
  },
  {
   "cell_type": "code",
   "execution_count": 9,
   "metadata": {},
   "outputs": [],
   "source": [
    "demand_nodes=[]       # For storing list of nodes that have non-zero demands\n",
    "desired_demands=[]    # For storing demand rates desired by each node for desired volume calculations\n",
    "elevations=[]\n",
    "\n",
    "# Creates a network model object using EPANET .inp file\n",
    "network=wntr.network.WaterNetworkModel(path)\n",
    "\n",
    "# Iterates over the junction list in the Network object\n",
    "for node in network.junctions():\n",
    "    # Record node ID (name), desired demand (base_demand) in CMS, elevations, x and y coordinates\n",
    "    demand_nodes.append(node[1].name)\n",
    "    desired_demands.append(node[1].base_demand)\n",
    "    elevations.append(node[1].elevation)\n",
    "\n",
    "\n",
    "# Get the supply duration in minutes (/60) as an integer\n",
    "supply_duration=int(network.options.time.duration/60)"
   ]
  },
  {
   "cell_type": "code",
   "execution_count": 10,
   "metadata": {},
   "outputs": [],
   "source": [
    "new_duration_hr=8\n",
    "new_duration_min=0\n",
    "new_duration=new_duration_hr*60+new_duration_min\n",
    "demand_multiplier=supply_duration/new_duration\n",
    "if new_duration_min <10:\n",
    "    new_duration_min=\"0\"+str(new_duration_min)\n",
    "else: new_duration_min=str(new_duration_min)"
   ]
  },
  {
   "cell_type": "code",
   "execution_count": 11,
   "metadata": {},
   "outputs": [],
   "source": [
    "desired_demands=[demand*demand_multiplier*1000 for demand in desired_demands]\n",
    "patterns=[\"       \" for demand in desired_demands]\n",
    "semicolons=[\";\" for demand in desired_demands]\n",
    "node_section=pd.DataFrame(list(zip(demand_nodes,elevations,desired_demands,patterns,semicolons)))\n",
    "node_section=node_section.to_string(header=False,index=False,col_space=10).splitlines()"
   ]
  },
  {
   "cell_type": "code",
   "execution_count": 12,
   "metadata": {},
   "outputs": [
    {
     "name": "stdout",
     "output_type": "stream",
     "text": [
      "Duration      8:00\n",
      "\n"
     ]
    }
   ],
   "source": [
    "# opens .inp file to read\n",
    "file=open(path,'r')\n",
    "lines=[]            # list to store all lines in the .inp file\n",
    "linecount=0         # Counter for the number of lines\n",
    "junctions_marker=0  # To store the line number at which the junctions section starts\n",
    "supply_duration_line=0\n",
    "\n",
    "# Loops over each line in the input file \n",
    "for line in file:\n",
    "    # Record the position of the phrase [JUNCTIONS] and add 2 to skip the header line\n",
    "    if re.search('\\[JUNCTIONS\\]',line):\n",
    "        junctions_marker=linecount+2\n",
    "    if re.search('Duration',line):\n",
    "        supply_duration_line=linecount\n",
    "    linecount+=1\n",
    "    # Store all lines in a list\n",
    "    lines.append(line)\n",
    "file.close()\n",
    "\n",
    "\n",
    "\n",
    "# Inserts the created sections in their appropriate location in the list of lines\n",
    "lines[supply_duration_line]=\"Duration      \"+str(new_duration_hr)+\":\"+new_duration_min+\"\\n\"\n",
    "lines[junctions_marker:junctions_marker+len(node_section)]=node_section\n",
    "\n",
    "print(lines[supply_duration_line])\n",
    "# Opens a new file in the same directory to write the modified network .inp file in\n",
    "file=open(path.parent/pathlib.Path(name_only+str(new_duration_hr)+\"hr\"+'_PDA.inp'),'w')\n",
    "c=0     #line counter\n",
    "\n",
    "# All lines added by this script are missing a new line character at the end, the conditional statements below add the new line character for these lines only and writes all lines to the file\n",
    "for line in lines:\n",
    "    if c>=junctions_marker and c<=junctions_marker+len(node_section)+len(node_section):\n",
    "        file.write(line+'\\n')\n",
    "    else: file.write(line)    \n",
    "    c+=1\n",
    "file.close()"
   ]
  },
  {
   "cell_type": "code",
   "execution_count": null,
   "metadata": {},
   "outputs": [],
   "source": []
  }
 ],
 "metadata": {
  "kernelspec": {
   "display_name": "Python 3.9.12 ('base')",
   "language": "python",
   "name": "python3"
  },
  "language_info": {
   "codemirror_mode": {
    "name": "ipython",
    "version": 3
   },
   "file_extension": ".py",
   "mimetype": "text/x-python",
   "name": "python",
   "nbconvert_exporter": "python",
   "pygments_lexer": "ipython3",
   "version": "3.9.13"
  },
  "orig_nbformat": 4,
  "vscode": {
   "interpreter": {
    "hash": "dd6a0ae2e89424b22bc0c3fd46707be6f981ef35bdac29f85707eba2fc78ecd7"
   }
  }
 },
 "nbformat": 4,
 "nbformat_minor": 2
}
