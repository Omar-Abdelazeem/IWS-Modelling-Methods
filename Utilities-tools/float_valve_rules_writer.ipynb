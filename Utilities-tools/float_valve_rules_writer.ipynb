{
 "cells": [
  {
   "cell_type": "code",
   "execution_count": 9,
   "metadata": {},
   "outputs": [],
   "source": [
    "import numpy as np\n",
    "import pandas as pd\n",
    "import matplotlib.pyplot as plt\n",
    "import pyperclip"
   ]
  },
  {
   "cell_type": "code",
   "execution_count": 19,
   "metadata": {},
   "outputs": [
    {
     "name": "stdout",
     "output_type": "stream",
     "text": [
      "ControlOutletJunc-1\tControl\t0.9\t0.985953\n",
      "ControlOutletJunc-1\t\t\t0.902\t0.984442\n",
      "ControlOutletJunc-1\t\t\t0.904\t0.982766\n",
      "ControlOutletJunc-1\t\t\t0.906\t0.980909\n",
      "ControlOutletJunc-1\t\t\t0.908\t0.97885\n",
      "ControlOutletJunc-1\t\t\t0.91\t0.976567\n",
      "ControlOutletJunc-1\t\t\t0.912\t0.974035\n",
      "ControlOutletJunc-1\t\t\t0.914\t0.971227\n",
      "ControlOutletJunc-1\t\t\t0.916\t0.968113\n",
      "ControlOutletJunc-1\t\t\t0.918\t0.964659\n",
      "ControlOutletJunc-1\t\t\t0.92\t0.960829\n",
      "ControlOutletJunc-1\t\t\t0.922\t0.956582\n",
      "ControlOutletJunc-1\t\t\t0.924\t0.951871\n",
      "ControlOutletJunc-1\t\t\t0.926\t0.946648\n",
      "ControlOutletJunc-1\t\t\t0.928\t0.940858\n",
      "ControlOutletJunc-1\t\t\t0.93\t0.934439\n",
      "ControlOutletJunc-1\t\t\t0.932\t0.927326\n",
      "ControlOutletJunc-1\t\t\t0.934\t0.919445\n",
      "ControlOutletJunc-1\t\t\t0.936\t0.910718\n",
      "ControlOutletJunc-1\t\t\t0.938\t0.901058\n",
      "ControlOutletJunc-1\t\t\t0.94\t0.890372\n",
      "ControlOutletJunc-1\t\t\t0.942\t0.878558\n",
      "ControlOutletJunc-1\t\t\t0.944\t0.865508\n",
      "ControlOutletJunc-1\t\t\t0.946\t0.851109\n",
      "ControlOutletJunc-1\t\t\t0.948\t0.835238\n",
      "ControlOutletJunc-1\t\t\t0.95\t0.817769\n",
      "ControlOutletJunc-1\t\t\t0.952\t0.798572\n",
      "ControlOutletJunc-1\t\t\t0.954\t0.777517\n",
      "ControlOutletJunc-1\t\t\t0.956\t0.754473\n",
      "ControlOutletJunc-1\t\t\t0.958\t0.729317\n",
      "ControlOutletJunc-1\t\t\t0.96\t0.701937\n",
      "ControlOutletJunc-1\t\t\t0.962\t0.672239\n",
      "ControlOutletJunc-1\t\t\t0.964\t0.640154\n",
      "ControlOutletJunc-1\t\t\t0.966\t0.605648\n",
      "ControlOutletJunc-1\t\t\t0.968\t0.568737\n",
      "ControlOutletJunc-1\t\t\t0.97\t0.529495\n",
      "ControlOutletJunc-1\t\t\t0.972\t0.488069\n",
      "ControlOutletJunc-1\t\t\t0.974\t0.444695\n",
      "ControlOutletJunc-1\t\t\t0.976\t0.399714\n",
      "ControlOutletJunc-1\t\t\t0.978\t0.353577\n",
      "ControlOutletJunc-1\t\t\t0.98\t0.306863\n",
      "ControlOutletJunc-1\t\t\t0.982\t0.260273\n",
      "ControlOutletJunc-1\t\t\t0.984\t0.214633\n",
      "ControlOutletJunc-1\t\t\t0.986\t0.170871\n",
      "ControlOutletJunc-1\t\t\t0.988\t0.129996\n",
      "ControlOutletJunc-1\t\t\t0.99\t0.093057\n",
      "ControlOutletJunc-1\t\t\t0.992\t0.061089\n",
      "ControlOutletJunc-1\t\t\t0.994\t0.035062\n",
      "ControlOutletJunc-1\t\t\t0.996\t0.015812\n",
      "ControlOutletJunc-1\t\t\t0.998\t0.003988\n",
      "ControlOutletJunc-1\t\t\t1.0\t0.0\n",
      ";\n"
     ]
    }
   ],
   "source": [
    "\n",
    "coeff=15\n",
    "des_p=10\n",
    "step=0.002\n",
    "m=2.5\n",
    "n=4\n",
    "h_min=0.9\n",
    "h_max=1.0\n",
    "out_name=\"OutletJunc-1\"\n",
    "storage_name=\"StorageforNodeJunc-1\"\n",
    "output_string=\"\"\n",
    "rule_count=0\n",
    "control_curve=\"Control\"+out_name+\"\\tControl\"\n",
    "for height in np.arange(h_min,h_max+step,step):\n",
    "    rule_count+=1\n",
    "    red_coeff=np.tanh(m*(h_max-height)/(h_max-h_min))*np.tanh(n*(h_max-height)/(h_max-h_min))\n",
    "    output_string+=\"Rule \"+out_name+str(rule_count)+\"\\n\"\n",
    "    output_string+=\"IF NODE \"+storage_name+\" DEPTH >= \"+str(height)+\"\\n\"\n",
    "    output_string+=\"AND NODE \"+storage_name+\" DEPTH < \"+str(height+step)+\"\\n\"\n",
    "    output_string+=\"THEN OUTLET \"+out_name+\" SETTING = \"+ str(red_coeff)+\"\\n\"\n",
    "    output_string+=\"\\n\"\n",
    "    if height==h_min:\n",
    "        control_curve+=\"\\t\"+str(round(height,6))+\"\\t\"+str(round(red_coeff,6))+'\\n'\n",
    "    else:\n",
    "        control_curve+=\"Control\"+out_name+\"\\t\\t\"+\"\\t\"+str(round(height,6))+\"\\t\"+str(round(red_coeff,6))+'\\n'\n",
    "\n",
    "\n",
    "control_curve+=\";\"\n",
    "print(control_curve)\n",
    "pyperclip.copy(control_curve)\n"
   ]
  },
  {
   "cell_type": "code",
   "execution_count": null,
   "metadata": {},
   "outputs": [],
   "source": []
  }
 ],
 "metadata": {
  "kernelspec": {
   "display_name": "base",
   "language": "python",
   "name": "python3"
  },
  "language_info": {
   "codemirror_mode": {
    "name": "ipython",
    "version": 3
   },
   "file_extension": ".py",
   "mimetype": "text/x-python",
   "name": "python",
   "nbconvert_exporter": "python",
   "pygments_lexer": "ipython3",
   "version": "3.9.13"
  },
  "orig_nbformat": 4
 },
 "nbformat": 4,
 "nbformat_minor": 2
}
